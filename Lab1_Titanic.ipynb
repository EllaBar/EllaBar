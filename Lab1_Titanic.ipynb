{
 "cells": [
  {
   "cell_type": "markdown",
   "metadata": {},
   "source": [
    "# Lab1 Titanic passangers' data analysis\n",
    "\n",
    "# Report\n"
   ]
  },
  {
   "cell_type": "code",
   "execution_count": 61,
   "metadata": {
    "collapsed": true
   },
   "outputs": [],
   "source": [
    "import numpy as np\n",
    "import pandas as pd\n",
    "import matplotlib.pyplot as plt\n",
    "%matplotlib inline\n",
    "import scipy\n",
    "import re\n",
    "import collections"
   ]
  },
  {
   "cell_type": "markdown",
   "metadata": {},
   "source": [
    "### preparation part, understanding quality of given data"
   ]
  },
  {
   "cell_type": "code",
   "execution_count": 62,
   "metadata": {
    "collapsed": false
   },
   "outputs": [
    {
     "name": "stdout",
     "output_type": "stream",
     "text": [
      "['PassengerId' 'Survived' 'Pclass' 'Name' 'Sex' 'Age' 'SibSp' 'Parch'\n",
      " 'Ticket' 'Fare' 'Cabin' 'Embarked']\n",
      "\n",
      "<class 'pandas.core.frame.DataFrame'>\n",
      "RangeIndex: 891 entries, 0 to 890\n",
      "Data columns (total 12 columns):\n",
      "PassengerId    891 non-null int64\n",
      "Survived       891 non-null int64\n",
      "Pclass         891 non-null int64\n",
      "Name           891 non-null object\n",
      "Sex            891 non-null object\n",
      "Age            714 non-null float64\n",
      "SibSp          891 non-null int64\n",
      "Parch          891 non-null int64\n",
      "Ticket         891 non-null object\n",
      "Fare           891 non-null float64\n",
      "Cabin          204 non-null object\n",
      "Embarked       889 non-null object\n",
      "dtypes: float64(2), int64(5), object(5)\n",
      "memory usage: 83.6+ KB\n"
     ]
    },
    {
     "data": {
      "text/html": [
       "<div>\n",
       "<table border=\"1\" class=\"dataframe\">\n",
       "  <thead>\n",
       "    <tr style=\"text-align: right;\">\n",
       "      <th></th>\n",
       "      <th>PassengerId</th>\n",
       "      <th>Survived</th>\n",
       "      <th>Pclass</th>\n",
       "      <th>Name</th>\n",
       "      <th>Sex</th>\n",
       "      <th>Age</th>\n",
       "      <th>SibSp</th>\n",
       "      <th>Parch</th>\n",
       "      <th>Ticket</th>\n",
       "      <th>Fare</th>\n",
       "      <th>Cabin</th>\n",
       "      <th>Embarked</th>\n",
       "    </tr>\n",
       "  </thead>\n",
       "  <tbody>\n",
       "    <tr>\n",
       "      <th>0</th>\n",
       "      <td>1</td>\n",
       "      <td>0</td>\n",
       "      <td>3</td>\n",
       "      <td>Braund, Mr. Owen Harris</td>\n",
       "      <td>male</td>\n",
       "      <td>22.0</td>\n",
       "      <td>1</td>\n",
       "      <td>0</td>\n",
       "      <td>A/5 21171</td>\n",
       "      <td>7.2500</td>\n",
       "      <td>NaN</td>\n",
       "      <td>S</td>\n",
       "    </tr>\n",
       "    <tr>\n",
       "      <th>1</th>\n",
       "      <td>2</td>\n",
       "      <td>1</td>\n",
       "      <td>1</td>\n",
       "      <td>Cumings, Mrs. John Bradley (Florence Briggs Th...</td>\n",
       "      <td>female</td>\n",
       "      <td>38.0</td>\n",
       "      <td>1</td>\n",
       "      <td>0</td>\n",
       "      <td>PC 17599</td>\n",
       "      <td>71.2833</td>\n",
       "      <td>C85</td>\n",
       "      <td>C</td>\n",
       "    </tr>\n",
       "    <tr>\n",
       "      <th>2</th>\n",
       "      <td>3</td>\n",
       "      <td>1</td>\n",
       "      <td>3</td>\n",
       "      <td>Heikkinen, Miss. Laina</td>\n",
       "      <td>female</td>\n",
       "      <td>26.0</td>\n",
       "      <td>0</td>\n",
       "      <td>0</td>\n",
       "      <td>STON/O2. 3101282</td>\n",
       "      <td>7.9250</td>\n",
       "      <td>NaN</td>\n",
       "      <td>S</td>\n",
       "    </tr>\n",
       "    <tr>\n",
       "      <th>3</th>\n",
       "      <td>4</td>\n",
       "      <td>1</td>\n",
       "      <td>1</td>\n",
       "      <td>Futrelle, Mrs. Jacques Heath (Lily May Peel)</td>\n",
       "      <td>female</td>\n",
       "      <td>35.0</td>\n",
       "      <td>1</td>\n",
       "      <td>0</td>\n",
       "      <td>113803</td>\n",
       "      <td>53.1000</td>\n",
       "      <td>C123</td>\n",
       "      <td>S</td>\n",
       "    </tr>\n",
       "    <tr>\n",
       "      <th>4</th>\n",
       "      <td>5</td>\n",
       "      <td>0</td>\n",
       "      <td>3</td>\n",
       "      <td>Allen, Mr. William Henry</td>\n",
       "      <td>male</td>\n",
       "      <td>35.0</td>\n",
       "      <td>0</td>\n",
       "      <td>0</td>\n",
       "      <td>373450</td>\n",
       "      <td>8.0500</td>\n",
       "      <td>NaN</td>\n",
       "      <td>S</td>\n",
       "    </tr>\n",
       "  </tbody>\n",
       "</table>\n",
       "</div>"
      ],
      "text/plain": [
       "   PassengerId  Survived  Pclass  \\\n",
       "0            1         0       3   \n",
       "1            2         1       1   \n",
       "2            3         1       3   \n",
       "3            4         1       1   \n",
       "4            5         0       3   \n",
       "\n",
       "                                                Name     Sex   Age  SibSp  \\\n",
       "0                            Braund, Mr. Owen Harris    male  22.0      1   \n",
       "1  Cumings, Mrs. John Bradley (Florence Briggs Th...  female  38.0      1   \n",
       "2                             Heikkinen, Miss. Laina  female  26.0      0   \n",
       "3       Futrelle, Mrs. Jacques Heath (Lily May Peel)  female  35.0      1   \n",
       "4                           Allen, Mr. William Henry    male  35.0      0   \n",
       "\n",
       "   Parch            Ticket     Fare Cabin Embarked  \n",
       "0      0         A/5 21171   7.2500   NaN        S  \n",
       "1      0          PC 17599  71.2833   C85        C  \n",
       "2      0  STON/O2. 3101282   7.9250   NaN        S  \n",
       "3      0            113803  53.1000  C123        S  \n",
       "4      0            373450   8.0500   NaN        S  "
      ]
     },
     "execution_count": 62,
     "metadata": {},
     "output_type": "execute_result"
    }
   ],
   "source": [
    "train_file = pd.read_csv('train.csv')\n",
    "\n",
    "print(train_file.columns.values)\n",
    "print('')\n",
    "train_file.info()\n",
    "train_file.head()"
   ]
  },
  {
   "cell_type": "markdown",
   "metadata": {},
   "source": [
    "#### As it can be seen the data is sufficiently representative. There are some problems with data format in a few columns, but, nevertheless, it will not affect to the general analysis of the data in this task"
   ]
  },
  {
   "cell_type": "markdown",
   "metadata": {},
   "source": [
    "## Number of 1st class passengers "
   ]
  },
  {
   "cell_type": "code",
   "execution_count": 63,
   "metadata": {
    "collapsed": false
   },
   "outputs": [
    {
     "name": "stdout",
     "output_type": "stream",
     "text": [
      "Empty DataFrame\n",
      "Columns: [PassengerId, Survived, Pclass, Name, Sex, Age, SibSp, Parch, Ticket, Fare, Cabin, Embarked]\n",
      "Index: []\n",
      "\n",
      "3    491\n",
      "1    216\n",
      "2    184\n",
      "Name: Pclass, dtype: int64\n",
      "\n",
      "1st class passengers = 216\n"
     ]
    }
   ],
   "source": [
    "print (train_file[train_file.Pclass.isnull()])\n",
    "print('')\n",
    "print (train_file['Pclass'].value_counts())\n",
    "print('')\n",
    "print (\"1st class passengers = 216\")"
   ]
  },
  {
   "cell_type": "code",
   "execution_count": 64,
   "metadata": {
    "collapsed": false
   },
   "outputs": [
    {
     "data": {
      "image/png": "[encoded data removed]",
      "text/plain": [
       "<matplotlib.figure.Figure at 0xd47b668>"
      ]
     },
     "metadata": {},
     "output_type": "display_data"
    }
   ],
   "source": [
    "x1= len(train_file.groupby('Pclass').get_group(1))\n",
    "x2= len(train_file.groupby('Pclass').get_group(2))\n",
    "x3= len(train_file.groupby('Pclass').get_group(3))\n",
    "\n",
    "#Pie chart\n",
    "plt.figure(figsize=(5,5))\n",
    "x = [x1, x2,x3]\n",
    "labels = ['1_class', '2_class','3_class']\n",
    "explode = [0.2, 0, 0]\n",
    "plt.pie(x, labels = labels, explode = explode, autopct = '%1.1f%%', shadow=True);\n",
    "plt.show()"
   ]
  },
  {
   "cell_type": "markdown",
   "metadata": {},
   "source": [
    "###  there are 216 passengers in the first class, that is 24,2% of all passengers on the board."
   ]
  },
  {
   "cell_type": "markdown",
   "metadata": {},
   "source": [
    "## The most popular female name on the board"
   ]
  },
  {
   "cell_type": "code",
   "execution_count": 65,
   "metadata": {
    "collapsed": false
   },
   "outputs": [
    {
     "data": {
      "text/plain": [
       "383    Holverson, Mrs. Alexander Oskar (Mary Aline To...\n",
       "218                                Bazzani, Miss. Albina\n",
       "609                            Shutes, Miss. Elizabeth W\n",
       "216                               Honkanen, Miss. Eliina\n",
       "215                              Newell, Miss. Madeleine\n",
       "608    Laroche, Mrs. Joseph (Juliette Marie Louise La...\n",
       "750                                    Wells, Miss. Joan\n",
       "211                           Cameron, Miss. Clear Annie\n",
       "747                                Sinkkonen, Miss. Anna\n",
       "402                             Jussila, Miss. Mari Aina\n",
       "208                            Carr, Miss. Helen \"Ellen\"\n",
       "754                     Herman, Mrs. Samuel (Jane Laver)\n",
       "458                                  Toomey, Miss. Ellen\n",
       "205                           Strom, Miss. Telma Matilda\n",
       "641                                 Sagesser, Mlle. Emma\n",
       "345                        Brown, Miss. Amelia \"Mildred\"\n",
       "346                            Smith, Miss. Marion Elsie\n",
       "457                    Kenyon, Mrs. Frederick R (Marion)\n",
       "759    Rothes, the Countess. of (Lucy Noel Martha Dye...\n",
       "610    Andersson, Mrs. Anders Johan (Alfrida Konstant...\n",
       "612                          Murphy, Miss. Margaret Jane\n",
       "618                          Becker, Miss. Marion Louise\n",
       "237                     Collyer, Miss. Marjorie \"Lottie\"\n",
       "617      Lobb, Mrs. William Arthur (Cordelia K Stanlick)\n",
       "235                         Harknett, Miss. Alice Phoebe\n",
       "443                            Reynaldo, Ms. Encarnacion\n",
       "233                       Asplund, Miss. Lillian Gertrud\n",
       "736              Ford, Mrs. Edward (Margaret Ann Watson)\n",
       "341                       Fortune, Miss. Alice Elizabeth\n",
       "404                              Oreskovic, Miss. Marija\n",
       "                             ...                        \n",
       "367                       Moussa, Mrs. (Mantoura Boulos)\n",
       "368                                  Jermyn, Miss. Annie\n",
       "567          Palsson, Mrs. Nils (Alma Cornelia Berglund)\n",
       "513       Rothschild, Mrs. Martin (Elizabeth L. Barrett)\n",
       "835                          Compton, Miss. Sara Rebecca\n",
       "369                        Aubart, Mme. Leontine Pauline\n",
       "389                                Lehmann, Miss. Bertha\n",
       "516                         Lemore, Mrs. (Amelia Milley)\n",
       "88                            Fortune, Miss. Mabel Helen\n",
       "564                       Meanwell, Miss. (Marion Ogden)\n",
       "518    Angle, Mrs. William A (Florence \"Mary\" Agnes H...\n",
       "85     Backstrom, Mrs. Karl Alfred (Maria Mathilda Gu...\n",
       "84                                   Ilett, Miss. Bertha\n",
       "649                      Stanley, Miss. Amy Zillah Elsie\n",
       "100                              Petranec, Miss. Matilda\n",
       "501                                  Canavan, Miss. Mary\n",
       "323    Caldwell, Mrs. Albert Francis (Sylvia Mae Harb...\n",
       "503                       Laitinen, Miss. Kristina Sofia\n",
       "506        Quick, Mrs. Frederick Charles (Jane Richards)\n",
       "502                       O'Sullivan, Miss. Bridget Mary\n",
       "573                                    Kelly, Miss. Mary\n",
       "106                     Salkjelsvik, Miss. Anna Kristine\n",
       "823                                   Moor, Mrs. (Beila)\n",
       "504                                Maioni, Miss. Roberta\n",
       "109                                  Moran, Miss. Bertha\n",
       "571        Appleton, Mrs. Edward Dale (Charlotte Lamson)\n",
       "111                                 Zabour, Miss. Hileni\n",
       "820    Hays, Mrs. Charles Melville (Clara Jennings Gr...\n",
       "114                                Attalah, Miss. Malake\n",
       "113                              Jussila, Miss. Katriina\n",
       "Name: Name, dtype: object"
      ]
     },
     "execution_count": 65,
     "metadata": {},
     "output_type": "execute_result"
    }
   ],
   "source": [
    "# the most popular female name \n",
    "train2 = train_file[['Name','Sex']]\n",
    "fem = train2.sort_values(by='Sex')\n",
    "fem2=fem[fem.Sex == 'female']['Name']\n",
    "fem2"
   ]
  },
  {
   "cell_type": "code",
   "execution_count": 66,
   "metadata": {
    "collapsed": false
   },
   "outputs": [
    {
     "data": {
      "text/plain": [
       "[('Anna', 15),\n",
       " ('Mary', 14),\n",
       " ('Elizabeth', 11),\n",
       " ('Margaret', 10),\n",
       " ('Alice', 6),\n",
       " ('Helen', 5),\n",
       " ('Maria', 5),\n",
       " ('Bertha', 5),\n",
       " ('Ellen', 4),\n",
       " ('Catherine', 4),\n",
       " ('Annie', 4),\n",
       " ('Ada', 4),\n",
       " ('Marie', 4),\n",
       " ('Emily', 4),\n",
       " ('Edith', 3),\n",
       " ('Lillian', 3),\n",
       " ('Augusta', 3),\n",
       " ('Madeleine', 3),\n",
       " ('Marion', 3),\n",
       " ('Kate', 3),\n",
       " ('Jane', 3),\n",
       " ('Elisabeth', 3),\n",
       " ('Katherine', 3),\n",
       " ('Florence', 3),\n",
       " ('Amelia', 3),\n",
       " ('Hanora', 3),\n",
       " ('Ida', 3),\n",
       " ('Miss.', 2),\n",
       " ('Charlotte', 2),\n",
       " ('Mathilde', 2),\n",
       " ('Martha', 2),\n",
       " ('Rosalie', 2),\n",
       " ('Susan', 2),\n",
       " ('Elsie', 2),\n",
       " ('Lucile', 2),\n",
       " ('Constance', 2),\n",
       " ('Agnes', 2),\n",
       " ('Ethel', 2),\n",
       " ('Dorothy', 2),\n",
       " ('Bridget', 2),\n",
       " ('Lily', 2),\n",
       " ('Marija', 2),\n",
       " ('Johanna', 2),\n",
       " ('Rosa', 2),\n",
       " ('Marjorie', 2),\n",
       " ('Adele', 2),\n",
       " ('Helene', 2),\n",
       " ('Jessie', 2),\n",
       " ('Clara', 2),\n",
       " ('Amy', 2),\n",
       " ('Lucy', 2),\n",
       " ('Hedwig', 2),\n",
       " ('Mabel', 2),\n",
       " ('', 1),\n",
       " ('Edwina', 1),\n",
       " ('Saiide', 1),\n",
       " ('Hildur', 1),\n",
       " ('Anne', 1),\n",
       " ('Grace', 1),\n",
       " ('Jean', 1),\n",
       " ('Vera', 1),\n",
       " ('Sigrid', 1),\n",
       " ('Leah', 1),\n",
       " ('Myna', 1),\n",
       " ('Ebba', 1),\n",
       " ('Beila', 1),\n",
       " ('Roberta', 1),\n",
       " ('Eliza', 1),\n",
       " ('Elna', 1),\n",
       " ('Stella', 1),\n",
       " ('Thamine', 1),\n",
       " ('Sallie', 1),\n",
       " ('Josefine', 1),\n",
       " ('Georgette', 1),\n",
       " ('Helmina', 1),\n",
       " ('Matilda', 1),\n",
       " ('Delia', 1),\n",
       " ('Katriina', 1),\n",
       " ('Marguerite', 1),\n",
       " ('Stina', 1),\n",
       " ('Brigdet', 1),\n",
       " ('Carla', 1),\n",
       " ('Edwiga', 1),\n",
       " ('Alfrida', 1),\n",
       " ('Aloisia', 1),\n",
       " ('Margareth', 1),\n",
       " ('Mari', 1),\n",
       " ('Sylvia', 1),\n",
       " ('Caroline', 1),\n",
       " ('Alma', 1),\n",
       " ('Manca', 1),\n",
       " ('Doolina', 1),\n",
       " ('Lucille', 1),\n",
       " ('Aurora', 1),\n",
       " ('Telma', 1),\n",
       " ('Juliette', 1),\n",
       " ('More,', 1),\n",
       " ('Banoura', 1),\n",
       " ('Wendla', 1),\n",
       " ('Lilian', 1),\n",
       " ('Emma', 1),\n",
       " ('Elin', 1),\n",
       " ('Leila', 1),\n",
       " ('Lutie', 1),\n",
       " ('Ingeborg', 1),\n",
       " ('Mantoura', 1),\n",
       " ('Hilda', 1),\n",
       " ('Laura', 1),\n",
       " ('Emelia', 1),\n",
       " ('Bessie', 1),\n",
       " ('Joan', 1),\n",
       " ('Katie', 1),\n",
       " ('Margit', 1),\n",
       " ('Marian', 1),\n",
       " ('Sultana', 1),\n",
       " ('Eliina', 1),\n",
       " ('Ruth', 1),\n",
       " ('Lyyli', 1),\n",
       " ('Gladys', 1),\n",
       " ('Karolina', 1),\n",
       " ('Selma', 1),\n",
       " ('Miriam', 1),\n",
       " ('Erna', 1),\n",
       " ('Laina', 1),\n",
       " ('Jeannie', 1),\n",
       " ('Henriette', 1),\n",
       " ('Eva', 1),\n",
       " ('Cordelia', 1),\n",
       " ('Velin', 1),\n",
       " ('Nourelain', 1),\n",
       " ('Jamila', 1),\n",
       " ('Harriet', 1),\n",
       " ('(Marion', 1),\n",
       " ('Kornelia', 1),\n",
       " ('Gerda', 1),\n",
       " ('Ann', 1),\n",
       " ('Agda', 1),\n",
       " ('Helena', 1),\n",
       " ('Kristina', 1),\n",
       " ('Elise', 1),\n",
       " ('Farnham', 1),\n",
       " ('Ellis', 1),\n",
       " ('Sara', 1),\n",
       " ('Nora', 1),\n",
       " ('Simonne', 1),\n",
       " ('Luise', 1),\n",
       " ('Hileni', 1),\n",
       " ('Tillie', 1),\n",
       " ('Esther', 1),\n",
       " ('Hannah', 1),\n",
       " ('Virginia', 1),\n",
       " ('Elina', 1),\n",
       " ('Eugenie', 1),\n",
       " ('Robina', 1),\n",
       " ('Gretchen', 1),\n",
       " ('Phyllis', 1),\n",
       " ('Amelie', 1),\n",
       " ('Hanne', 1),\n",
       " ('Margaretta', 1),\n",
       " ('Imanita', 1),\n",
       " ('Albina', 1),\n",
       " ('Clear', 1),\n",
       " ('Hulda', 1),\n",
       " ('Malake', 1),\n",
       " ('Daisy', 1),\n",
       " ('Pieta', 1),\n",
       " ('Torborg', 1),\n",
       " ('Eleanor', 1),\n",
       " ('Julie', 1),\n",
       " ('Lulu', 1),\n",
       " ('Latifa', 1),\n",
       " ('Selini', 1),\n",
       " ('Juliet', 1),\n",
       " ('Irene', 1)]"
      ]
     },
     "execution_count": 66,
     "metadata": {},
     "output_type": "execute_result"
    }
   ],
   "source": [
    "# using regular expressions it will be left only first ladys' names\n",
    "fem3=['']\n",
    "\n",
    "for i in fem2:\n",
    " result1 = re.search(r'Miss', i)\n",
    " if result1:\n",
    "  result = re.split(r'\\s', i)\n",
    "  fem3.insert(0,result[2])\n",
    " else:\n",
    "   result = re.findall(r'[(](\\w+)',i)   \n",
    "   fem3=fem3+result \n",
    "   \n",
    "fem4=collections.Counter(fem3)\n",
    "fem4.most_common()\n"
   ]
  },
  {
   "cell_type": "markdown",
   "metadata": {},
   "source": [
    "### the most common name is \"Mary\" - 15 women on the board"
   ]
  },
  {
   "cell_type": "markdown",
   "metadata": {},
   "source": [
    "## Titles and classes"
   ]
  },
  {
   "cell_type": "code",
   "execution_count": 67,
   "metadata": {
    "collapsed": false
   },
   "outputs": [
    {
     "name": "stdout",
     "output_type": "stream",
     "text": [
      "In the 1st class there are such titles:\n",
      "[(' Mr', 107), (' Miss', 46), (' Mrs', 42), (' Dr', 5), (' Master', 3), (' Major', 2), (' Mlle', 2), (' Col', 2), ('', 1), (' the Countess', 1), (' Don', 1), (' Sir', 1), (' Capt', 1), (' Lady', 1), (' Jonkheer', 1), (' Mme', 1)]\n",
      "\n",
      "In the 2nd class there are such titles:\n",
      "[(' Mr', 91), (' Mrs', 41), (' Miss', 34), (' Master', 9), (' Rev', 6), (' Dr', 2), ('', 1), (' Ms', 1)]\n",
      "\n",
      "In the 3rd class there are such titles:\n",
      "[(' Mr', 319), (' Miss', 102), (' Mrs', 42), (' Master', 28), ('', 1)]\n"
     ]
    }
   ],
   "source": [
    "# Titles and Classes\n",
    "# using the same procedure as before...\n",
    "\n",
    "##aggregate, count,groupby\n",
    "train3 = train_file[['Pclass','Name']]\n",
    "t = train3.sort_values(by='Pclass')\n",
    "t2=t[t.Pclass == 1]['Name']\n",
    "t2\n",
    "tit1=['']\n",
    "for i in t2:\n",
    "  result1 = re.split(r'[,.]',i )\n",
    "  tit1.insert(0,result1[1])\n",
    "tit1\n",
    "print ('In the 1st class there are such titles:')\n",
    "tit2=collections.Counter(tit1)\n",
    "print (tit2.most_common())\n",
    "print('')\n",
    "###\n",
    "\n",
    "tt = train3.sort_values(by='Pclass')\n",
    "tt2=tt[tt.Pclass == 2]['Name']\n",
    "tt2\n",
    "titt1=['']\n",
    "for i in tt2:\n",
    "  resultt1 = re.split(r'[,.]',i )\n",
    "  titt1.insert(0,resultt1[1])\n",
    "titt1\n",
    "print ('In the 2nd class there are such titles:')\n",
    "titt2=collections.Counter(titt1)\n",
    "print(titt2.most_common())\n",
    "print('')\n",
    "#########\n",
    "ttt = train3.sort_values(by='Pclass')\n",
    "ttt2=ttt[ttt.Pclass == 3]['Name']\n",
    "tt2\n",
    "tittt1=['']\n",
    "for i in ttt2:\n",
    "  resulttt1 = re.split(r'[,.]',i )\n",
    "  tittt1.insert(0,resulttt1[1])\n",
    "tittt1\n",
    "\n",
    "print ('In the 3rd class there are such titles:')\n",
    "tittt2=collections.Counter(tittt1)\n",
    "print(tittt2.most_common())"
   ]
  },
  {
   "cell_type": "markdown",
   "metadata": {},
   "source": [
    "###\n",
    "\n",
    "      1st        2nd          3rd\n",
    "       \n",
    "Mr.       107    |    91     | 319\n",
    "\n",
    "Miss       46    |    34     | 102\n",
    "\n",
    "Mrs        42    |    41     | 42\n",
    " \n",
    "Dr         5     |    2      |\n",
    "\n",
    "Master     3     |    9      | 28\n",
    "\n",
    "Major      2\n",
    "\n",
    "Don        1\n",
    "\n",
    "Capt       1\n",
    "\n",
    "Sir        1\n",
    "\n",
    "Mme        1\n",
    "\n",
    "Lady       1\n",
    "\n",
    "Jonkheer   1"
   ]
  },
  {
   "cell_type": "markdown",
   "metadata": {},
   "source": [
    "## Survived part of passengers"
   ]
  },
  {
   "cell_type": "code",
   "execution_count": 68,
   "metadata": {
    "collapsed": false
   },
   "outputs": [
    {
     "name": "stdout",
     "output_type": "stream",
     "text": [
      "0    549\n",
      "1    342\n",
      "Name: Survived, dtype: int64\n",
      "\n",
      "\"1\" - survived,  \"0\" - no\n",
      "('survived: ', 0)\n"
     ]
    },
    {
     "data": {
      "image/png": "[encoded data removed]",
      "text/plain": [
       "<matplotlib.figure.Figure at 0xd45ec18>"
      ]
     },
     "metadata": {},
     "output_type": "display_data"
    }
   ],
   "source": [
    "#6 Survived part of passengers\n",
    "print (train_file['Survived'].value_counts())\n",
    "print('')\n",
    "print ('\"1\" - survived,  \"0\" - no')\n",
    "\n",
    "surv=len(train_file.groupby('Survived').get_group(1))\n",
    "dead=len(train_file.groupby('Survived').get_group(0))\n",
    "total=surv+dead\n",
    "ans=surv/total*100\n",
    "print ('survived: ',ans)\n",
    "\n",
    "#Pie chart\n",
    "plt.figure(figsize=(5,5))\n",
    "x = [surv, dead]\n",
    "labels = ['survived', 'dead']\n",
    "explode = [0.2, 0]\n",
    "plt.pie(x, labels = labels, explode = explode, autopct = '%1.1f%%', shadow=True);\n",
    "plt.show()"
   ]
  },
  {
   "cell_type": "markdown",
   "metadata": {},
   "source": [
    "### there are 342 survived passengers and it is 38,4%"
   ]
  },
  {
   "cell_type": "markdown",
   "metadata": {},
   "source": [
    "## Variety of tickets cost"
   ]
  },
  {
   "cell_type": "code",
   "execution_count": 69,
   "metadata": {
    "collapsed": false
   },
   "outputs": [
    {
     "data": {
      "text/plain": [
       "8.0500      43\n",
       "13.0000     42\n",
       "7.8958      38\n",
       "7.7500      34\n",
       "26.0000     31\n",
       "10.5000     24\n",
       "7.9250      18\n",
       "7.7750      16\n",
       "26.5500     15\n",
       "0.0000      15\n",
       "7.2292      15\n",
       "7.8542      13\n",
       "8.6625      13\n",
       "7.2500      13\n",
       "7.2250      12\n",
       "16.1000      9\n",
       "9.5000       9\n",
       "24.1500      8\n",
       "15.5000      8\n",
       "56.4958      7\n",
       "52.0000      7\n",
       "14.5000      7\n",
       "14.4542      7\n",
       "69.5500      7\n",
       "7.0500       7\n",
       "31.2750      7\n",
       "46.9000      6\n",
       "30.0000      6\n",
       "7.7958       6\n",
       "39.6875      6\n",
       "            ..\n",
       "7.1417       1\n",
       "42.4000      1\n",
       "211.5000     1\n",
       "12.2750      1\n",
       "61.1750      1\n",
       "8.4333       1\n",
       "51.4792      1\n",
       "7.8875       1\n",
       "8.6833       1\n",
       "7.5208       1\n",
       "34.6542      1\n",
       "28.7125      1\n",
       "25.5875      1\n",
       "7.7292       1\n",
       "12.2875      1\n",
       "8.6542       1\n",
       "8.7125       1\n",
       "61.3792      1\n",
       "6.9500       1\n",
       "9.8417       1\n",
       "8.3000       1\n",
       "13.7917      1\n",
       "9.4750       1\n",
       "13.4167      1\n",
       "26.3875      1\n",
       "8.4583       1\n",
       "9.8375       1\n",
       "8.3625       1\n",
       "14.1083      1\n",
       "17.4000      1\n",
       "Name: Fare, dtype: int64"
      ]
     },
     "execution_count": 69,
     "metadata": {},
     "output_type": "execute_result"
    }
   ],
   "source": [
    "# Variety of ticket cost\n",
    "y=train_file['Fare'].value_counts()\n",
    "y"
   ]
  },
  {
   "cell_type": "markdown",
   "metadata": {},
   "source": [
    "#### let's calculate the main characteristics, such as :"
   ]
  },
  {
   "cell_type": "code",
   "execution_count": 70,
   "metadata": {
    "collapsed": false
   },
   "outputs": [
    {
     "name": "stdout",
     "output_type": "stream",
     "text": [
      "('mean=', 32.2042079685746)\n",
      "('standart_deviation=', 49.66553444477411)\n",
      "('Median=', 14.4542)\n"
     ]
    }
   ],
   "source": [
    "max(train_file.Fare) \n",
    "min(train_file.Fare)\n",
    "print (\"mean=\",np.mean(train_file.Fare))\n",
    "print (\"standart_deviation=\", np.std(train_file.Fare))\n",
    "print (\"Median=\", np.median(train_file.Fare))"
   ]
  },
  {
   "cell_type": "markdown",
   "metadata": {},
   "source": [
    "###  - there is a variety of tickets' cost"
   ]
  },
  {
   "cell_type": "markdown",
   "metadata": {},
   "source": [
    "### Are there any relationships between the probability of survival and the tickets price?  (the more expensive tickets - the higher probability to survive)"
   ]
  },
  {
   "cell_type": "code",
   "execution_count": 71,
   "metadata": {
    "collapsed": false
   },
   "outputs": [
    {
     "name": "stdout",
     "output_type": "stream",
     "text": [
      "Survived    0    1\n",
      "Pclass            \n",
      "1          80  136\n",
      "2          97   87\n",
      "3         372  119\n"
     ]
    }
   ],
   "source": [
    "classes= train_file.groupby(['Pclass', 'Survived']).size().unstack()\n",
    "print (classes)"
   ]
  },
  {
   "cell_type": "markdown",
   "metadata": {},
   "source": [
    "#### consider the higher class is - the more expensive ticket"
   ]
  },
  {
   "cell_type": "code",
   "execution_count": 72,
   "metadata": {
    "collapsed": false
   },
   "outputs": [
    {
     "data": {
      "text/plain": [
       "<matplotlib.legend.Legend at 0xd56c278>"
      ]
     },
     "execution_count": 72,
     "metadata": {},
     "output_type": "execute_result"
    },
    {
     "data": {
      "image/png": "[encoded data removed]",
      "text/plain": [
       "<matplotlib.figure.Figure at 0xd45e780>"
      ]
     },
     "metadata": {},
     "output_type": "display_data"
    }
   ],
   "source": [
    "plt.bar([0, 1, 2], classes[0], color='red', label='Died')\n",
    "plt.bar([0, 1, 2], classes[1], bottom=classes[0], color='blue', label='Survived')\n",
    "\n",
    "plt.xticks([0, 1, 2], ['1st Class', '2nd Class', '3rd Class'], rotation='horizontal')\n",
    "\n",
    "plt.ylabel(\"Number\")\n",
    "plt.legend()"
   ]
  },
  {
   "cell_type": "markdown",
   "metadata": {},
   "source": [
    "### there is quite a clear bar-graph that shows that survivors are dominated in the first class, with high probability the first class has a priority line for lifeboats."
   ]
  },
  {
   "cell_type": "markdown",
   "metadata": {},
   "source": [
    "## Females survived more friquently then mens"
   ]
  },
  {
   "cell_type": "code",
   "execution_count": 73,
   "metadata": {
    "collapsed": false
   },
   "outputs": [
    {
     "name": "stdout",
     "output_type": "stream",
     "text": [
      "Survived    0    1\n",
      "Sex               \n",
      "female     81  233\n",
      "male      468  109\n"
     ]
    }
   ],
   "source": [
    "y= train_file.groupby(['Sex', 'Survived']).size().unstack()\n",
    "print (y)\n"
   ]
  },
  {
   "cell_type": "code",
   "execution_count": 74,
   "metadata": {
    "collapsed": false
   },
   "outputs": [
    {
     "data": {
      "text/plain": [
       "<matplotlib.legend.Legend at 0xd9ab4a8>"
      ]
     },
     "execution_count": 74,
     "metadata": {},
     "output_type": "execute_result"
    },
    {
     "data": {
      "image/png": "[encoded data removed]",
      "text/plain": [
       "<matplotlib.figure.Figure at 0xd834828>"
      ]
     },
     "metadata": {},
     "output_type": "display_data"
    }
   ],
   "source": [
    "plt.bar([0, 1], y[0], color='red', label='Died')\n",
    "plt.bar([0, 1], y[1], bottom=y[0], color='blue', label='Survived')\n",
    "\n",
    "plt.xticks([0, 1], ['female', 'male'], rotation='horizontal')\n",
    "\n",
    "plt.ylabel(\"Number\")\n",
    "plt.legend()"
   ]
  },
  {
   "cell_type": "markdown",
   "metadata": {},
   "source": [
    "### this bar-graph presents the ratio of dead and surviving of male and female\n",
    "obviously, the number of female survivors exceed the male ones."
   ]
  },
  {
   "cell_type": "markdown",
   "metadata": {},
   "source": [
    "# Conclusion\n"
   ]
  },
  {
   "cell_type": "markdown",
   "metadata": {},
   "source": [
    "The first lab based on Titanic data set gives a possibility to deal with some Python libraries. The first steps required much time to look for information and , such practice gives possibility to orientate in basic commands in libraries."
   ]
  },
  {
   "cell_type": "markdown",
   "metadata": {
    "collapsed": true
   },
   "source": [
    "#  08.04 \n",
    "### question about correlation of siblings and children/parents\n"
   ]
  },
  {
   "cell_type": "code",
   "execution_count": 75,
   "metadata": {
    "collapsed": false
   },
   "outputs": [
    {
     "data": {
      "text/html": [
       "<div>\n",
       "<table border=\"1\" class=\"dataframe\">\n",
       "  <thead>\n",
       "    <tr style=\"text-align: right;\">\n",
       "      <th></th>\n",
       "      <th>PassengerId</th>\n",
       "      <th>Survived</th>\n",
       "      <th>Pclass</th>\n",
       "      <th>Age</th>\n",
       "      <th>SibSp</th>\n",
       "      <th>Parch</th>\n",
       "      <th>Fare</th>\n",
       "    </tr>\n",
       "  </thead>\n",
       "  <tbody>\n",
       "    <tr>\n",
       "      <th>PassengerId</th>\n",
       "      <td>1.000000</td>\n",
       "      <td>-0.005007</td>\n",
       "      <td>-0.035144</td>\n",
       "      <td>0.036847</td>\n",
       "      <td>-0.057527</td>\n",
       "      <td>-0.001652</td>\n",
       "      <td>0.012658</td>\n",
       "    </tr>\n",
       "    <tr>\n",
       "      <th>Survived</th>\n",
       "      <td>-0.005007</td>\n",
       "      <td>1.000000</td>\n",
       "      <td>-0.338481</td>\n",
       "      <td>-0.077221</td>\n",
       "      <td>-0.035322</td>\n",
       "      <td>0.081629</td>\n",
       "      <td>0.257307</td>\n",
       "    </tr>\n",
       "    <tr>\n",
       "      <th>Pclass</th>\n",
       "      <td>-0.035144</td>\n",
       "      <td>-0.338481</td>\n",
       "      <td>1.000000</td>\n",
       "      <td>-0.369226</td>\n",
       "      <td>0.083081</td>\n",
       "      <td>0.018443</td>\n",
       "      <td>-0.549500</td>\n",
       "    </tr>\n",
       "    <tr>\n",
       "      <th>Age</th>\n",
       "      <td>0.036847</td>\n",
       "      <td>-0.077221</td>\n",
       "      <td>-0.369226</td>\n",
       "      <td>1.000000</td>\n",
       "      <td>-0.308247</td>\n",
       "      <td>-0.189119</td>\n",
       "      <td>0.096067</td>\n",
       "    </tr>\n",
       "    <tr>\n",
       "      <th>SibSp</th>\n",
       "      <td>-0.057527</td>\n",
       "      <td>-0.035322</td>\n",
       "      <td>0.083081</td>\n",
       "      <td>-0.308247</td>\n",
       "      <td>1.000000</td>\n",
       "      <td>0.414838</td>\n",
       "      <td>0.159651</td>\n",
       "    </tr>\n",
       "    <tr>\n",
       "      <th>Parch</th>\n",
       "      <td>-0.001652</td>\n",
       "      <td>0.081629</td>\n",
       "      <td>0.018443</td>\n",
       "      <td>-0.189119</td>\n",
       "      <td>0.414838</td>\n",
       "      <td>1.000000</td>\n",
       "      <td>0.216225</td>\n",
       "    </tr>\n",
       "    <tr>\n",
       "      <th>Fare</th>\n",
       "      <td>0.012658</td>\n",
       "      <td>0.257307</td>\n",
       "      <td>-0.549500</td>\n",
       "      <td>0.096067</td>\n",
       "      <td>0.159651</td>\n",
       "      <td>0.216225</td>\n",
       "      <td>1.000000</td>\n",
       "    </tr>\n",
       "  </tbody>\n",
       "</table>\n",
       "</div>"
      ],
      "text/plain": [
       "             PassengerId  Survived    Pclass       Age     SibSp     Parch  \\\n",
       "PassengerId     1.000000 -0.005007 -0.035144  0.036847 -0.057527 -0.001652   \n",
       "Survived       -0.005007  1.000000 -0.338481 -0.077221 -0.035322  0.081629   \n",
       "Pclass         -0.035144 -0.338481  1.000000 -0.369226  0.083081  0.018443   \n",
       "Age             0.036847 -0.077221 -0.369226  1.000000 -0.308247 -0.189119   \n",
       "SibSp          -0.057527 -0.035322  0.083081 -0.308247  1.000000  0.414838   \n",
       "Parch          -0.001652  0.081629  0.018443 -0.189119  0.414838  1.000000   \n",
       "Fare            0.012658  0.257307 -0.549500  0.096067  0.159651  0.216225   \n",
       "\n",
       "                 Fare  \n",
       "PassengerId  0.012658  \n",
       "Survived     0.257307  \n",
       "Pclass      -0.549500  \n",
       "Age          0.096067  \n",
       "SibSp        0.159651  \n",
       "Parch        0.216225  \n",
       "Fare         1.000000  "
      ]
     },
     "execution_count": 75,
     "metadata": {},
     "output_type": "execute_result"
    }
   ],
   "source": [
    "import seaborn as sns\n",
    "sns.set(style=\"white\")\n",
    "\n",
    "# Compute the correlation matrix with panda\n",
    "c=train_file.corr()\n",
    "c"
   ]
  },
  {
   "cell_type": "code",
   "execution_count": 76,
   "metadata": {
    "collapsed": false
   },
   "outputs": [
    {
     "name": "stdout",
     "output_type": "stream",
     "text": [
      "(5, '0.41')\n"
     ]
    }
   ],
   "source": [
    "corr = train_file['SibSp'].corr(train_file['Parch'])\n",
    "print (5, \"{:0.2f}\".format(corr))"
   ]
  },
  {
   "cell_type": "code",
   "execution_count": 77,
   "metadata": {
    "collapsed": false
   },
   "outputs": [
    {
     "data": {
      "image/png": "[encoded data removed]",
      "text/plain": [
       "<matplotlib.figure.Figure at 0xd8e23c8>"
      ]
     },
     "metadata": {},
     "output_type": "display_data"
    }
   ],
   "source": [
    "# Generate a mask for the upper triangle\n",
    "mask = np.zeros_like(c, dtype=np.bool)\n",
    "mask[np.triu_indices_from(mask)] = True\n",
    "\n",
    "# Set up the matplotlib figure\n",
    "f, ax = plt.subplots(figsize=(11, 9))\n",
    "\n",
    "# Draw the heatmap with the mask and correct aspect ratio\n",
    "sns.heatmap(c, vmax=.31,square=True)\n",
    "\n",
    "plt.show()"
   ]
  },
  {
   "cell_type": "markdown",
   "metadata": {},
   "source": [
    "this correlation matrix shows the strength in connections between different columns. from blue to brown there is a degree of strength. number of siblings and parents/kids is red (0.414838). so it is quite high correlation."
   ]
  },
  {
   "cell_type": "markdown",
   "metadata": {},
   "source": [
    "# 29.05\n",
    "\n",
    "# Titles and classes without cycles"
   ]
  },
  {
   "cell_type": "code",
   "execution_count": 78,
   "metadata": {
    "collapsed": false
   },
   "outputs": [
    {
     "data": {
      "text/plain": [
       "Name          Pclass\n",
       "Capt          1           1\n",
       "Col           1           2\n",
       "Don           1           1\n",
       "Dr            1           5\n",
       "              2           2\n",
       "Jonkheer      1           1\n",
       "Lady          1           1\n",
       "Major         1           2\n",
       "Master        1           3\n",
       "              2           9\n",
       "              3          28\n",
       "Miss          1          46\n",
       "              2          34\n",
       "              3         102\n",
       "Mlle          1           2\n",
       "Mme           1           1\n",
       "Mr            1         107\n",
       "              2          91\n",
       "              3         319\n",
       "Mrs           1          42\n",
       "              2          41\n",
       "              3          42\n",
       "Ms            2           1\n",
       "Rev           2           6\n",
       "Sir           1           1\n",
       "the Countess  1           1\n",
       "dtype: int64"
      ]
     },
     "execution_count": 78,
     "metadata": {},
     "output_type": "execute_result"
    }
   ],
   "source": [
    "n=train_file\n",
    "n.Name=map(lambda x: x.split(\",\")[1].split(\".\")[0][1:], train_file.Name)\n",
    "n.groupby([\"Name\", \"Pclass\"]).size()"
   ]
  }
 ],
 "metadata": {
  "kernelspec": {
   "display_name": "Python 2",
   "language": "python",
   "name": "python2"
  },
  "language_info": {
   "codemirror_mode": {
    "name": "ipython",
    "version": 2
   },
   "file_extension": ".py",
   "mimetype": "text/x-python",
   "name": "python",
   "nbconvert_exporter": "python",
   "pygments_lexer": "ipython2",
   "version": "2.7.13"
  }
 },
 "nbformat": 4,
 "nbformat_minor": 2
}
