{
 "cells": [
  {
   "cell_type": "markdown",
   "metadata": {},
   "source": [
    "# Lab2: Binary classification and model evaluation"
   ]
  },
  {
   "cell_type": "markdown",
   "metadata": {},
   "source": [
    "## Part 1. Spam classification\n",
    "Each object in dataset is a letter with features based on text, spam is a positive example 1, normal letter - negative 0.\n",
    "\n",
    "dataset: Spambase\n"
   ]
  },
  {
   "cell_type": "code",
   "execution_count": 645,
   "metadata": {
    "collapsed": false
   },
   "outputs": [],
   "source": [
    "import pandas as pd\n",
    "import numpy as np"
   ]
  },
  {
   "cell_type": "markdown",
   "metadata": {},
   "source": [
    "#### 1.1 Spambase dataset downloading"
   ]
  },
  {
   "cell_type": "code",
   "execution_count": 646,
   "metadata": {
    "collapsed": false
   },
   "outputs": [
    {
     "data": {
      "text/html": [
       "<div>\n",
       "<table border=\"1\" class=\"dataframe\">\n",
       "  <thead>\n",
       "    <tr style=\"text-align: right;\">\n",
       "      <th></th>\n",
       "      <th>word_freq_make</th>\n",
       "      <th>word_freq_address</th>\n",
       "      <th>word_freq_all</th>\n",
       "      <th>word_freq_3d</th>\n",
       "      <th>word_freq_our</th>\n",
       "      <th>word_freq_over</th>\n",
       "      <th>word_freq_remove</th>\n",
       "      <th>word_freq_internet</th>\n",
       "      <th>word_freq_order</th>\n",
       "      <th>word_freq_mail</th>\n",
       "      <th>...</th>\n",
       "      <th>char_freq_;</th>\n",
       "      <th>char_freq_(</th>\n",
       "      <th>char_freq_[</th>\n",
       "      <th>char_freq_!</th>\n",
       "      <th>char_freq_$</th>\n",
       "      <th>char_freq_#</th>\n",
       "      <th>capital_run_length_average</th>\n",
       "      <th>capital_run_length_longest</th>\n",
       "      <th>capital_run_length_total</th>\n",
       "      <th>spam</th>\n",
       "    </tr>\n",
       "  </thead>\n",
       "  <tbody>\n",
       "    <tr>\n",
       "      <th>0</th>\n",
       "      <td>0.00</td>\n",
       "      <td>0.64</td>\n",
       "      <td>0.64</td>\n",
       "      <td>0.0</td>\n",
       "      <td>0.32</td>\n",
       "      <td>0.00</td>\n",
       "      <td>0.00</td>\n",
       "      <td>0.00</td>\n",
       "      <td>0.00</td>\n",
       "      <td>0.00</td>\n",
       "      <td>...</td>\n",
       "      <td>0.00</td>\n",
       "      <td>0.000</td>\n",
       "      <td>0.0</td>\n",
       "      <td>0.778</td>\n",
       "      <td>0.000</td>\n",
       "      <td>0.000</td>\n",
       "      <td>3.756</td>\n",
       "      <td>61</td>\n",
       "      <td>278</td>\n",
       "      <td>1</td>\n",
       "    </tr>\n",
       "    <tr>\n",
       "      <th>1</th>\n",
       "      <td>0.21</td>\n",
       "      <td>0.28</td>\n",
       "      <td>0.50</td>\n",
       "      <td>0.0</td>\n",
       "      <td>0.14</td>\n",
       "      <td>0.28</td>\n",
       "      <td>0.21</td>\n",
       "      <td>0.07</td>\n",
       "      <td>0.00</td>\n",
       "      <td>0.94</td>\n",
       "      <td>...</td>\n",
       "      <td>0.00</td>\n",
       "      <td>0.132</td>\n",
       "      <td>0.0</td>\n",
       "      <td>0.372</td>\n",
       "      <td>0.180</td>\n",
       "      <td>0.048</td>\n",
       "      <td>5.114</td>\n",
       "      <td>101</td>\n",
       "      <td>1028</td>\n",
       "      <td>1</td>\n",
       "    </tr>\n",
       "    <tr>\n",
       "      <th>2</th>\n",
       "      <td>0.06</td>\n",
       "      <td>0.00</td>\n",
       "      <td>0.71</td>\n",
       "      <td>0.0</td>\n",
       "      <td>1.23</td>\n",
       "      <td>0.19</td>\n",
       "      <td>0.19</td>\n",
       "      <td>0.12</td>\n",
       "      <td>0.64</td>\n",
       "      <td>0.25</td>\n",
       "      <td>...</td>\n",
       "      <td>0.01</td>\n",
       "      <td>0.143</td>\n",
       "      <td>0.0</td>\n",
       "      <td>0.276</td>\n",
       "      <td>0.184</td>\n",
       "      <td>0.010</td>\n",
       "      <td>9.821</td>\n",
       "      <td>485</td>\n",
       "      <td>2259</td>\n",
       "      <td>1</td>\n",
       "    </tr>\n",
       "    <tr>\n",
       "      <th>3</th>\n",
       "      <td>0.00</td>\n",
       "      <td>0.00</td>\n",
       "      <td>0.00</td>\n",
       "      <td>0.0</td>\n",
       "      <td>0.63</td>\n",
       "      <td>0.00</td>\n",
       "      <td>0.31</td>\n",
       "      <td>0.63</td>\n",
       "      <td>0.31</td>\n",
       "      <td>0.63</td>\n",
       "      <td>...</td>\n",
       "      <td>0.00</td>\n",
       "      <td>0.137</td>\n",
       "      <td>0.0</td>\n",
       "      <td>0.137</td>\n",
       "      <td>0.000</td>\n",
       "      <td>0.000</td>\n",
       "      <td>3.537</td>\n",
       "      <td>40</td>\n",
       "      <td>191</td>\n",
       "      <td>1</td>\n",
       "    </tr>\n",
       "    <tr>\n",
       "      <th>4</th>\n",
       "      <td>0.00</td>\n",
       "      <td>0.00</td>\n",
       "      <td>0.00</td>\n",
       "      <td>0.0</td>\n",
       "      <td>0.63</td>\n",
       "      <td>0.00</td>\n",
       "      <td>0.31</td>\n",
       "      <td>0.63</td>\n",
       "      <td>0.31</td>\n",
       "      <td>0.63</td>\n",
       "      <td>...</td>\n",
       "      <td>0.00</td>\n",
       "      <td>0.135</td>\n",
       "      <td>0.0</td>\n",
       "      <td>0.135</td>\n",
       "      <td>0.000</td>\n",
       "      <td>0.000</td>\n",
       "      <td>3.537</td>\n",
       "      <td>40</td>\n",
       "      <td>191</td>\n",
       "      <td>1</td>\n",
       "    </tr>\n",
       "  </tbody>\n",
       "</table>\n",
       "<p>5 rows × 58 columns</p>\n",
       "</div>"
      ],
      "text/plain": [
       "   word_freq_make  word_freq_address  word_freq_all  word_freq_3d  \\\n",
       "0            0.00               0.64           0.64           0.0   \n",
       "1            0.21               0.28           0.50           0.0   \n",
       "2            0.06               0.00           0.71           0.0   \n",
       "3            0.00               0.00           0.00           0.0   \n",
       "4            0.00               0.00           0.00           0.0   \n",
       "\n",
       "   word_freq_our  word_freq_over  word_freq_remove  word_freq_internet  \\\n",
       "0           0.32            0.00              0.00                0.00   \n",
       "1           0.14            0.28              0.21                0.07   \n",
       "2           1.23            0.19              0.19                0.12   \n",
       "3           0.63            0.00              0.31                0.63   \n",
       "4           0.63            0.00              0.31                0.63   \n",
       "\n",
       "   word_freq_order  word_freq_mail  ...   char_freq_;  char_freq_(  \\\n",
       "0             0.00            0.00  ...          0.00        0.000   \n",
       "1             0.00            0.94  ...          0.00        0.132   \n",
       "2             0.64            0.25  ...          0.01        0.143   \n",
       "3             0.31            0.63  ...          0.00        0.137   \n",
       "4             0.31            0.63  ...          0.00        0.135   \n",
       "\n",
       "   char_freq_[  char_freq_!  char_freq_$  char_freq_#  \\\n",
       "0          0.0        0.778        0.000        0.000   \n",
       "1          0.0        0.372        0.180        0.048   \n",
       "2          0.0        0.276        0.184        0.010   \n",
       "3          0.0        0.137        0.000        0.000   \n",
       "4          0.0        0.135        0.000        0.000   \n",
       "\n",
       "   capital_run_length_average  capital_run_length_longest  \\\n",
       "0                       3.756                          61   \n",
       "1                       5.114                         101   \n",
       "2                       9.821                         485   \n",
       "3                       3.537                          40   \n",
       "4                       3.537                          40   \n",
       "\n",
       "   capital_run_length_total  spam  \n",
       "0                       278     1  \n",
       "1                      1028     1  \n",
       "2                      2259     1  \n",
       "3                       191     1  \n",
       "4                       191     1  \n",
       "\n",
       "[5 rows x 58 columns]"
      ]
     },
     "execution_count": 646,
     "metadata": {},
     "output_type": "execute_result"
    }
   ],
   "source": [
    "#there are some problems with urllib2 or urllib.request...\n",
    "feature_names = [\n",
    "    line.strip().split(':')[0] \n",
    "    for line in open('spambase.names').readlines()[33:]\n",
    "]\n",
    "spam_data = pd.read_csv('spambase.data', header=None, names=(feature_names + ['spam']))\n",
    " \n",
    "X, y = spam_data.ix[:, :-1].values, spam_data.ix[:, -1].values\n",
    "spam_data.head()  "
   ]
  },
  {
   "cell_type": "markdown",
   "metadata": {},
   "source": [
    "The rows give information about frequensy of each word in each letter. th,e colums \"spam\" was added, 1- spam, 0 - regular."
   ]
  },
  {
   "cell_type": "markdown",
   "metadata": {},
   "source": [
    "#### 1.2 How many letters in a dataset ?"
   ]
  },
  {
   "cell_type": "code",
   "execution_count": 647,
   "metadata": {
    "collapsed": false
   },
   "outputs": [
    {
     "name": "stdout",
     "output_type": "stream",
     "text": [
      "There are 4601 letters \n"
     ]
    }
   ],
   "source": [
    "print (\"There are\", len(spam_data), \"letters \")"
   ]
  },
  {
   "cell_type": "markdown",
   "metadata": {},
   "source": [
    "#### 1.3 Which portion of them is bad (spam) ?"
   ]
  },
  {
   "cell_type": "code",
   "execution_count": 648,
   "metadata": {
    "collapsed": false
   },
   "outputs": [
    {
     "name": "stdout",
     "output_type": "stream",
     "text": [
      "portion of spam is: 39.404477287546186 %\n"
     ]
    }
   ],
   "source": [
    "x1=len(spam_data.groupby('spam').get_group(1))\n",
    "x2=len(spam_data)\n",
    "x3=x1/x2*100\n",
    "print (\"portion of spam is:\", x3, \"%\")"
   ]
  },
  {
   "cell_type": "markdown",
   "metadata": {},
   "source": [
    "#### 1.4 How you can group letters' features?"
   ]
  },
  {
   "cell_type": "code",
   "execution_count": 649,
   "metadata": {
    "collapsed": false
   },
   "outputs": [
    {
     "name": "stdout",
     "output_type": "stream",
     "text": [
      "0    2788\n",
      "1    1813\n",
      "Name: spam, dtype: int64\n"
     ]
    },
    {
     "data": {
      "text/plain": [
       "[('word_freq_', 48), ('char_freq_', 6), ('capital_run_', 3)]"
      ]
     },
     "execution_count": 649,
     "metadata": {},
     "output_type": "execute_result"
    }
   ],
   "source": [
    "#  by frequency of:\n",
    "# spam/regular\n",
    "#each word, numbers - as word, \n",
    "#symbol, - as char\n",
    "#length_average, length_longest,length_total  -capital_run_\n",
    "\n",
    "import re\n",
    "import collections\n",
    "\n",
    "print (spam_data['spam'].value_counts())\n",
    "\n",
    "y=[]\n",
    "for i in spam_data.columns.values:\n",
    "    result1 = re.findall(r'word_freq_', i)\n",
    "    result2 = re.findall(r'char_freq_', i)\n",
    "    result3 = re.findall(r'capital_run_', i)\n",
    "    if result1:\n",
    "        y=y+result1\n",
    "    elif result2:\n",
    "        y=y+result2\n",
    "    elif result3:\n",
    "        y=y+result3\n",
    "\n",
    "y2=collections.Counter(y)\n",
    "y2.most_common()"
   ]
  },
  {
   "cell_type": "markdown",
   "metadata": {},
   "source": [
    "All letters were devided by 4 groups:\n",
    "1. Spam/regular group -  1813 spam, 2788 regular\n",
    "2. Type \"word\" - 48\n",
    "3. Type \"char\" - 6\n",
    "4. Type \"capital_run\" - 3"
   ]
  },
  {
   "cell_type": "markdown",
   "metadata": {},
   "source": [
    "## Part 2 Classifier training and it's evaluation\n",
    "\n",
    "As a result of this task you should get following models and compare them between each other: \n",
    "Constant model / Decision tree / KNN /  KNN with rescaling"
   ]
  },
  {
   "cell_type": "markdown",
   "metadata": {},
   "source": [
    "#### 2.1 Split dataset into to disjoint subsets: train - first 3000 examples, test - all others"
   ]
  },
  {
   "cell_type": "code",
   "execution_count": 650,
   "metadata": {
    "collapsed": false
   },
   "outputs": [],
   "source": [
    "#creating data\n",
    "train = spam_data[0:3000]\n",
    "test = spam_data[3000:]\n",
    "\n",
    "train , y_train = train.drop('spam', 1), list(train['spam'])\n",
    "test, y_test = test.drop('spam', 1), list(test['spam'])"
   ]
  },
  {
   "cell_type": "markdown",
   "metadata": {},
   "source": [
    "#### 2.2 Train decision tree with train. Classify examples from test. Calculate classification quality metrics: Accuracy, Precision, Recall, F1.\n",
    "\n"
   ]
  },
  {
   "cell_type": "code",
   "execution_count": 651,
   "metadata": {
    "collapsed": false
   },
   "outputs": [
    {
     "name": "stdout",
     "output_type": "stream",
     "text": [
      "accuracy= 0.770768269831\n",
      "             precision    recall  f1-score   support\n",
      "\n",
      "    regular       1.00      0.77      0.87      1601\n",
      "       spam       0.00      0.00      0.00         0\n",
      "\n",
      "avg / total       1.00      0.77      0.87      1601\n",
      "\n",
      "Confusion_matrix:\n",
      "[[1234  367]\n",
      " [   0    0]]\n"
     ]
    },
    {
     "name": "stderr",
     "output_type": "stream",
     "text": [
      "C:\\Users\\Ella\\Anaconda3\\lib\\site-packages\\sklearn\\metrics\\classification.py:1115: UndefinedMetricWarning: Recall and F-score are ill-defined and being set to 0.0 in labels with no true samples.\n",
      "  'recall', 'true', average, warn_for)\n"
     ]
    }
   ],
   "source": [
    "# Decision Tree Classifier\n",
    "from sklearn import metrics\n",
    "from sklearn.metrics import classification_report\n",
    "from sklearn.tree import DecisionTreeClassifier\n",
    "\n",
    "#settings\n",
    "model = DecisionTreeClassifier(criterion='gini',max_depth=7)\n",
    "model.fit(train, y_train)\n",
    "\n",
    "#prediction\n",
    "expected = y_test\n",
    "predicted = model.predict(test)\n",
    "target_names = ['regular','spam'] ##\n",
    "\n",
    "#quality\n",
    "print (\"accuracy=\",accuracy_score(expected, predicted))\n",
    "print (metrics.classification_report(expected, predicted,target_names=target_names))\n",
    "print( \"Confusion_matrix:\")\n",
    "print (metrics.confusion_matrix(expected, predicted))"
   ]
  },
  {
   "cell_type": "markdown",
   "metadata": {},
   "source": [
    "Quality metrics:\n",
    "1. Accuracy = (TP + TN) / (TP + TN + FP + FN) — fraction of correct predictions\n",
    "2. Precision = TP / (TP + FP) — accuracy, fraction of real spam in the letters classified as spam\n",
    "3. Recall = TP / (TP + FN) — completeness, fraction of filtered spam\n",
    "4. F1 = 2TP / (2TP + FP + FN) — harmonic mean of precision and recall"
   ]
  },
  {
   "cell_type": "markdown",
   "metadata": {},
   "source": [
    "#### 2.3 Which drawbacks does evaluation on this test have? How you can make evalution more informative?\n",
    "\n",
    "The first disadvantage is sorted dataset. There is a case when all letters are regular, wihout spam variants. So, testing isn't informative.\n",
    "\n",
    "Based on this, it is neccessary to make another test set. So, spamdata set should be shuffled before evaluating."
   ]
  },
  {
   "cell_type": "markdown",
   "metadata": {},
   "source": [
    "#### 2.4 Repeat experiment with dataset shuffled before split"
   ]
  },
  {
   "cell_type": "code",
   "execution_count": 652,
   "metadata": {
    "collapsed": false
   },
   "outputs": [
    {
     "data": {
      "text/html": [
       "<div>\n",
       "<table border=\"1\" class=\"dataframe\">\n",
       "  <thead>\n",
       "    <tr style=\"text-align: right;\">\n",
       "      <th></th>\n",
       "      <th>word_freq_make</th>\n",
       "      <th>word_freq_address</th>\n",
       "      <th>word_freq_all</th>\n",
       "      <th>word_freq_3d</th>\n",
       "      <th>word_freq_our</th>\n",
       "      <th>word_freq_over</th>\n",
       "      <th>word_freq_remove</th>\n",
       "      <th>word_freq_internet</th>\n",
       "      <th>word_freq_order</th>\n",
       "      <th>word_freq_mail</th>\n",
       "      <th>...</th>\n",
       "      <th>char_freq_;</th>\n",
       "      <th>char_freq_(</th>\n",
       "      <th>char_freq_[</th>\n",
       "      <th>char_freq_!</th>\n",
       "      <th>char_freq_$</th>\n",
       "      <th>char_freq_#</th>\n",
       "      <th>capital_run_length_average</th>\n",
       "      <th>capital_run_length_longest</th>\n",
       "      <th>capital_run_length_total</th>\n",
       "      <th>spam</th>\n",
       "    </tr>\n",
       "  </thead>\n",
       "  <tbody>\n",
       "    <tr>\n",
       "      <th>4260</th>\n",
       "      <td>0.00</td>\n",
       "      <td>1.08</td>\n",
       "      <td>0.00</td>\n",
       "      <td>0.0</td>\n",
       "      <td>0.00</td>\n",
       "      <td>0.0</td>\n",
       "      <td>0.0</td>\n",
       "      <td>0.00</td>\n",
       "      <td>0.0</td>\n",
       "      <td>1.08</td>\n",
       "      <td>...</td>\n",
       "      <td>0.000</td>\n",
       "      <td>0.000</td>\n",
       "      <td>0.000</td>\n",
       "      <td>0.169</td>\n",
       "      <td>0.000</td>\n",
       "      <td>0.000</td>\n",
       "      <td>2.052</td>\n",
       "      <td>21</td>\n",
       "      <td>39</td>\n",
       "      <td>0</td>\n",
       "    </tr>\n",
       "    <tr>\n",
       "      <th>3433</th>\n",
       "      <td>0.00</td>\n",
       "      <td>0.00</td>\n",
       "      <td>0.00</td>\n",
       "      <td>0.0</td>\n",
       "      <td>0.00</td>\n",
       "      <td>0.0</td>\n",
       "      <td>0.0</td>\n",
       "      <td>0.00</td>\n",
       "      <td>0.0</td>\n",
       "      <td>0.00</td>\n",
       "      <td>...</td>\n",
       "      <td>0.000</td>\n",
       "      <td>0.113</td>\n",
       "      <td>0.113</td>\n",
       "      <td>0.056</td>\n",
       "      <td>0.000</td>\n",
       "      <td>0.000</td>\n",
       "      <td>2.969</td>\n",
       "      <td>16</td>\n",
       "      <td>193</td>\n",
       "      <td>0</td>\n",
       "    </tr>\n",
       "    <tr>\n",
       "      <th>1503</th>\n",
       "      <td>0.27</td>\n",
       "      <td>0.00</td>\n",
       "      <td>0.16</td>\n",
       "      <td>0.0</td>\n",
       "      <td>0.27</td>\n",
       "      <td>0.0</td>\n",
       "      <td>0.0</td>\n",
       "      <td>0.05</td>\n",
       "      <td>0.0</td>\n",
       "      <td>0.21</td>\n",
       "      <td>...</td>\n",
       "      <td>0.068</td>\n",
       "      <td>0.029</td>\n",
       "      <td>0.000</td>\n",
       "      <td>0.019</td>\n",
       "      <td>0.058</td>\n",
       "      <td>0.009</td>\n",
       "      <td>3.389</td>\n",
       "      <td>56</td>\n",
       "      <td>539</td>\n",
       "      <td>1</td>\n",
       "    </tr>\n",
       "    <tr>\n",
       "      <th>3573</th>\n",
       "      <td>0.00</td>\n",
       "      <td>0.00</td>\n",
       "      <td>0.00</td>\n",
       "      <td>0.0</td>\n",
       "      <td>0.19</td>\n",
       "      <td>0.0</td>\n",
       "      <td>0.0</td>\n",
       "      <td>0.00</td>\n",
       "      <td>0.0</td>\n",
       "      <td>0.00</td>\n",
       "      <td>...</td>\n",
       "      <td>0.066</td>\n",
       "      <td>0.111</td>\n",
       "      <td>0.000</td>\n",
       "      <td>0.022</td>\n",
       "      <td>0.044</td>\n",
       "      <td>0.000</td>\n",
       "      <td>1.759</td>\n",
       "      <td>21</td>\n",
       "      <td>403</td>\n",
       "      <td>0</td>\n",
       "    </tr>\n",
       "    <tr>\n",
       "      <th>3906</th>\n",
       "      <td>2.00</td>\n",
       "      <td>0.00</td>\n",
       "      <td>0.00</td>\n",
       "      <td>0.0</td>\n",
       "      <td>0.00</td>\n",
       "      <td>0.0</td>\n",
       "      <td>0.0</td>\n",
       "      <td>0.00</td>\n",
       "      <td>0.0</td>\n",
       "      <td>0.00</td>\n",
       "      <td>...</td>\n",
       "      <td>0.000</td>\n",
       "      <td>0.000</td>\n",
       "      <td>0.000</td>\n",
       "      <td>0.000</td>\n",
       "      <td>0.000</td>\n",
       "      <td>0.000</td>\n",
       "      <td>5.888</td>\n",
       "      <td>29</td>\n",
       "      <td>53</td>\n",
       "      <td>0</td>\n",
       "    </tr>\n",
       "  </tbody>\n",
       "</table>\n",
       "<p>5 rows × 58 columns</p>\n",
       "</div>"
      ],
      "text/plain": [
       "      word_freq_make  word_freq_address  word_freq_all  word_freq_3d  \\\n",
       "4260            0.00               1.08           0.00           0.0   \n",
       "3433            0.00               0.00           0.00           0.0   \n",
       "1503            0.27               0.00           0.16           0.0   \n",
       "3573            0.00               0.00           0.00           0.0   \n",
       "3906            2.00               0.00           0.00           0.0   \n",
       "\n",
       "      word_freq_our  word_freq_over  word_freq_remove  word_freq_internet  \\\n",
       "4260           0.00             0.0               0.0                0.00   \n",
       "3433           0.00             0.0               0.0                0.00   \n",
       "1503           0.27             0.0               0.0                0.05   \n",
       "3573           0.19             0.0               0.0                0.00   \n",
       "3906           0.00             0.0               0.0                0.00   \n",
       "\n",
       "      word_freq_order  word_freq_mail  ...   char_freq_;  char_freq_(  \\\n",
       "4260              0.0            1.08  ...         0.000        0.000   \n",
       "3433              0.0            0.00  ...         0.000        0.113   \n",
       "1503              0.0            0.21  ...         0.068        0.029   \n",
       "3573              0.0            0.00  ...         0.066        0.111   \n",
       "3906              0.0            0.00  ...         0.000        0.000   \n",
       "\n",
       "      char_freq_[  char_freq_!  char_freq_$  char_freq_#  \\\n",
       "4260        0.000        0.169        0.000        0.000   \n",
       "3433        0.113        0.056        0.000        0.000   \n",
       "1503        0.000        0.019        0.058        0.009   \n",
       "3573        0.000        0.022        0.044        0.000   \n",
       "3906        0.000        0.000        0.000        0.000   \n",
       "\n",
       "      capital_run_length_average  capital_run_length_longest  \\\n",
       "4260                       2.052                          21   \n",
       "3433                       2.969                          16   \n",
       "1503                       3.389                          56   \n",
       "3573                       1.759                          21   \n",
       "3906                       5.888                          29   \n",
       "\n",
       "      capital_run_length_total  spam  \n",
       "4260                        39     0  \n",
       "3433                       193     0  \n",
       "1503                       539     1  \n",
       "3573                       403     0  \n",
       "3906                        53     0  \n",
       "\n",
       "[5 rows x 58 columns]"
      ]
     },
     "execution_count": 652,
     "metadata": {},
     "output_type": "execute_result"
    }
   ],
   "source": [
    "#shuffling data\n",
    "\n",
    "from sklearn.utils import shuffle\n",
    "\n",
    "data_shuf = spam_data\n",
    "data_shuf = shuffle(data_shuf)\n",
    "\n",
    "data_shuf.head()"
   ]
  },
  {
   "cell_type": "code",
   "execution_count": 653,
   "metadata": {
    "collapsed": false
   },
   "outputs": [],
   "source": [
    "#creating data\n",
    "train = data_shuf[0:3000]\n",
    "test = data_shuf[3000:]\n",
    "\n",
    "train , y_train = train.drop('spam', 1), list(train['spam'])\n",
    "test, y_test = test.drop('spam', 1), list(test['spam'])\n",
    "\n",
    "target_names = ['regular','spam'] ##"
   ]
  },
  {
   "cell_type": "code",
   "execution_count": 730,
   "metadata": {
    "collapsed": false
   },
   "outputs": [
    {
     "name": "stdout",
     "output_type": "stream",
     "text": [
      "DECISION TREE\n",
      "accuracy= 0.915677701437\n",
      "classification_report:              precision    recall  f1-score   support\n",
      "\n",
      "    regular       0.92      0.94      0.93       978\n",
      "       spam       0.91      0.87      0.89       623\n",
      "\n",
      "avg / total       0.92      0.92      0.92      1601\n",
      "\n",
      "Confusion_matrix:decision tree:\n",
      "[[924  54]\n",
      " [ 81 542]]\n"
     ]
    }
   ],
   "source": [
    "#Decision Tree Classifier\n",
    "#settings\n",
    "model = DecisionTreeClassifier(criterion='gini',max_depth=7)\n",
    "model.fit(train, y_train)\n",
    "\n",
    "#prediction\n",
    "expected = y_test\n",
    "predicted1 = model.predict(test)\n",
    "\n",
    "#quality\n",
    "A1 = accuracy_score(expected, predicted1)\n",
    "R1 = metrics.classification_report(expected, predicted1,target_names=target_names)\n",
    "M1 = metrics.confusion_matrix(expected, predicted1)\n",
    "\n",
    "print( 'DECISION TREE')\n",
    "\n",
    "print (\"accuracy=\",A1)\n",
    "print (\"classification_report:\" , R1)\n",
    "print( \"Confusion_matrix:decision tree:\")\n",
    "print (M1)"
   ]
  },
  {
   "cell_type": "markdown",
   "metadata": {},
   "source": [
    "#### 2.5 Which features are the most informative? Use feature importance from DecisionTreeClassifier"
   ]
  },
  {
   "cell_type": "code",
   "execution_count": 731,
   "metadata": {
    "collapsed": false
   },
   "outputs": [
    {
     "name": "stdout",
     "output_type": "stream",
     "text": [
      "52 char_freq_$, importance = 0.40\n",
      "6 word_freq_remove, importance = 0.18\n",
      "51 char_freq_!, importance = 0.11\n",
      "24 word_freq_hp, importance = 0.06\n",
      "56 capital_run_length_total, importance = 0.05\n",
      "15 word_freq_free, importance = 0.04\n",
      "45 word_freq_edu, importance = 0.03\n",
      "26 word_freq_george, importance = 0.02\n",
      "23 word_freq_money, importance = 0.01\n",
      "55 capital_run_length_longest, importance = 0.01\n",
      "48 char_freq_;, importance = 0.01\n",
      "54 capital_run_length_average, importance = 0.01\n",
      "36 word_freq_1999, importance = 0.01\n",
      "44 word_freq_re, importance = 0.01\n",
      "16 word_freq_business, importance = 0.01\n",
      "21 word_freq_font, importance = 0.01\n",
      "17 word_freq_email, importance = 0.01\n",
      "41 word_freq_meeting, importance = 0.01\n",
      "4 word_freq_our, importance = 0.01\n",
      "25 word_freq_hpl, importance = 0.00\n",
      "47 word_freq_conference, importance = 0.00\n",
      "18 word_freq_you, importance = 0.00\n",
      "34 word_freq_85, importance = 0.00\n",
      "49 char_freq_(, importance = 0.00\n",
      "1 word_freq_address, importance = 0.00\n",
      "29 word_freq_labs, importance = 0.00\n",
      "22 word_freq_000, importance = 0.00\n",
      "7 word_freq_internet, importance = 0.00\n",
      "8 word_freq_order, importance = 0.00\n",
      "5 word_freq_over, importance = 0.00\n",
      "3 word_freq_3d, importance = 0.00\n",
      "14 word_freq_addresses, importance = 0.00\n",
      "13 word_freq_report, importance = 0.00\n",
      "12 word_freq_people, importance = 0.00\n",
      "11 word_freq_will, importance = 0.00\n",
      "2 word_freq_all, importance = 0.00\n",
      "10 word_freq_receive, importance = 0.00\n",
      "9 word_freq_mail, importance = 0.00\n",
      "28 word_freq_lab, importance = 0.00\n",
      "19 word_freq_credit, importance = 0.00\n",
      "20 word_freq_your, importance = 0.00\n",
      "53 char_freq_#, importance = 0.00\n",
      "50 char_freq_[, importance = 0.00\n",
      "46 word_freq_table, importance = 0.00\n",
      "43 word_freq_project, importance = 0.00\n",
      "42 word_freq_original, importance = 0.00\n",
      "40 word_freq_cs, importance = 0.00\n",
      "39 word_freq_direct, importance = 0.00\n",
      "38 word_freq_pm, importance = 0.00\n",
      "37 word_freq_parts, importance = 0.00\n",
      "35 word_freq_technology, importance = 0.00\n",
      "33 word_freq_415, importance = 0.00\n",
      "32 word_freq_data, importance = 0.00\n",
      "31 word_freq_857, importance = 0.00\n",
      "30 word_freq_telnet, importance = 0.00\n",
      "27 word_freq_650, importance = 0.00\n",
      "0 word_freq_make, importance = 0.00\n"
     ]
    }
   ],
   "source": [
    "most_important_features = np.argsort(model.feature_importances_)[::-1]\n",
    "for idx in most_important_features:\n",
    "    print ('%d %s, importance = %.2f' % (idx, spam_data.columns.values[idx], model.feature_importances_[idx]))"
   ]
  },
  {
   "cell_type": "markdown",
   "metadata": {},
   "source": [
    "the most informative feature if frequency of char \"$\""
   ]
  },
  {
   "cell_type": "markdown",
   "metadata": {},
   "source": [
    "#### 2.6 What you can say about quality of the best constant model (constant model always predicts one class)"
   ]
  },
  {
   "cell_type": "markdown",
   "metadata": {},
   "source": [
    "Dummy estimators\n",
    "\n",
    "classification:constant \n",
    "\n",
    "always predicts a constant label that is provided by the user.\n",
    "\n",
    "A major motivation of this method is F1-scoring, when the positive class is in the minority."
   ]
  },
  {
   "cell_type": "code",
   "execution_count": 659,
   "metadata": {
    "collapsed": false
   },
   "outputs": [
    {
     "name": "stdout",
     "output_type": "stream",
     "text": [
      "CONSTANT MODEL C=0\n",
      "accuracy= 0.61086820737\n",
      "classification_report:              precision    recall  f1-score   support\n",
      "\n",
      "    regular       0.61      1.00      0.76       978\n",
      "       spam       0.00      0.00      0.00       623\n",
      "\n",
      "avg / total       0.37      0.61      0.46      1601\n",
      "\n",
      "Confusion_matrix:decision tree:\n",
      "[[978   0]\n",
      " [623   0]]\n"
     ]
    },
    {
     "name": "stderr",
     "output_type": "stream",
     "text": [
      "C:\\Users\\Ella\\Anaconda3\\lib\\site-packages\\sklearn\\metrics\\classification.py:1113: UndefinedMetricWarning: Precision and F-score are ill-defined and being set to 0.0 in labels with no predicted samples.\n",
      "  'precision', 'predicted', average, warn_for)\n"
     ]
    }
   ],
   "source": [
    "#Constant=0 model\n",
    "\n",
    "from sklearn.dummy import DummyClassifier\n",
    "random_state = 0\n",
    "\n",
    "#settings\n",
    "model = DummyClassifier(strategy='constant', random_state=random_state, constant=0)\n",
    "model.fit(train, y_train)\n",
    "\n",
    "#prediction\n",
    "expected = y_test\n",
    "c0 = model.predict(test)\n",
    "\n",
    "#quality\n",
    "A2 = accuracy_score(expected, c0)\n",
    "R2 = metrics.classification_report(expected, c0,target_names=target_names)\n",
    "M2 = metrics.confusion_matrix(expected, c0)\n",
    "\n",
    "print (\"CONSTANT MODEL C=0\")\n",
    "\n",
    "print (\"accuracy=\",A2)\n",
    "print (\"classification_report:\" , R2)\n",
    "print( \"Confusion_matrix:decision tree:\")\n",
    "print (M2)"
   ]
  },
  {
   "cell_type": "code",
   "execution_count": 660,
   "metadata": {
    "collapsed": false
   },
   "outputs": [
    {
     "name": "stdout",
     "output_type": "stream",
     "text": [
      "CONSTANT MODEL C=1\n",
      "accuracy= 0.38913179263\n",
      "classification_report:              precision    recall  f1-score   support\n",
      "\n",
      "    regular       0.00      0.00      0.00       978\n",
      "       spam       0.39      1.00      0.56       623\n",
      "\n",
      "avg / total       0.15      0.39      0.22      1601\n",
      "\n",
      "Confusion_matrix:decision tree:\n",
      "[[  0 978]\n",
      " [  0 623]]\n"
     ]
    },
    {
     "name": "stderr",
     "output_type": "stream",
     "text": [
      "C:\\Users\\Ella\\Anaconda3\\lib\\site-packages\\sklearn\\metrics\\classification.py:1113: UndefinedMetricWarning: Precision and F-score are ill-defined and being set to 0.0 in labels with no predicted samples.\n",
      "  'precision', 'predicted', average, warn_for)\n"
     ]
    }
   ],
   "source": [
    "#Constant model\n",
    "\n",
    "#settings\n",
    "model = DummyClassifier(strategy='constant', random_state=random_state, constant=1)\n",
    "model.fit(train, y_train)\n",
    "\n",
    "#prediction\n",
    "expected = y_test\n",
    "c1 = model.predict(test)\n",
    "\n",
    "#quality\n",
    "A3 = accuracy_score(expected, c1)\n",
    "R3 = metrics.classification_report(expected, c1,target_names=target_names)\n",
    "M3 = metrics.confusion_matrix(expected, c1)\n",
    "\n",
    "print (\"CONSTANT MODEL C=1\")\n",
    "\n",
    "print (\"accuracy=\",A3)\n",
    "print (\"classification_report:\" , R3)\n",
    "print( \"Confusion_matrix:decision tree:\")\n",
    "print (M3)"
   ]
  },
  {
   "cell_type": "markdown",
   "metadata": {},
   "source": [
    "#### 7 Train KNN model and evaluate it on test"
   ]
  },
  {
   "cell_type": "code",
   "execution_count": 661,
   "metadata": {
    "collapsed": false
   },
   "outputs": [
    {
     "name": "stdout",
     "output_type": "stream",
     "text": [
      "KNN\n",
      "accuracy= 0.785758900687\n",
      "classification_report:              precision    recall  f1-score   support\n",
      "\n",
      "    regular       0.80      0.87      0.83       978\n",
      "       spam       0.76      0.65      0.70       623\n",
      "\n",
      "avg / total       0.78      0.79      0.78      1601\n",
      "\n",
      "Confusion_matrix:decision tree:\n",
      "[[852 126]\n",
      " [217 406]]\n"
     ]
    }
   ],
   "source": [
    "# KNN\n",
    "from sklearn.neighbors import KNeighborsClassifier\n",
    "from sklearn.metrics import confusion_matrix\n",
    "\n",
    "#settings\n",
    "neigh = KNeighborsClassifier(n_neighbors=10, metric='euclidean')\n",
    "neigh.fit(train, y_train) \n",
    "\n",
    "#prediction\n",
    "expected = y_test\n",
    "predicted4=neigh.predict(test)\n",
    "\n",
    "#quality\n",
    "A4 = accuracy_score(expected, predicted4)\n",
    "R4 = metrics.classification_report(expected, predicted4,target_names=target_names)\n",
    "M4 = metrics.confusion_matrix(expected, predicted4)\n",
    "\n",
    "print (\"KNN\")\n",
    "\n",
    "print (\"accuracy=\",A4)\n",
    "print (\"classification_report:\" , R4)\n",
    "print( \"Confusion_matrix:decision tree:\")\n",
    "print (M4)"
   ]
  },
  {
   "cell_type": "markdown",
   "metadata": {},
   "source": [
    "#### 8 Train KNN for rescaled features. Evaluate quality of the model on test. Does that feature transformation increased given metrics for KNN? Repeat experiment for DecisionTree. Why rescaling has no effect on the quality of decision tree?"
   ]
  },
  {
   "cell_type": "code",
   "execution_count": 662,
   "metadata": {
    "collapsed": false
   },
   "outputs": [
    {
     "data": {
      "text/html": [
       "<div>\n",
       "<table border=\"1\" class=\"dataframe\">\n",
       "  <thead>\n",
       "    <tr style=\"text-align: right;\">\n",
       "      <th></th>\n",
       "      <th>0</th>\n",
       "      <th>1</th>\n",
       "      <th>2</th>\n",
       "      <th>3</th>\n",
       "      <th>4</th>\n",
       "      <th>5</th>\n",
       "      <th>6</th>\n",
       "      <th>7</th>\n",
       "      <th>8</th>\n",
       "      <th>9</th>\n",
       "      <th>...</th>\n",
       "      <th>48</th>\n",
       "      <th>49</th>\n",
       "      <th>50</th>\n",
       "      <th>51</th>\n",
       "      <th>52</th>\n",
       "      <th>53</th>\n",
       "      <th>54</th>\n",
       "      <th>55</th>\n",
       "      <th>56</th>\n",
       "      <th>57</th>\n",
       "    </tr>\n",
       "  </thead>\n",
       "  <tbody>\n",
       "    <tr>\n",
       "      <th>0</th>\n",
       "      <td>-0.342434</td>\n",
       "      <td>0.671855</td>\n",
       "      <td>-0.556761</td>\n",
       "      <td>-0.0469</td>\n",
       "      <td>-0.464314</td>\n",
       "      <td>-0.350266</td>\n",
       "      <td>-0.291794</td>\n",
       "      <td>-0.262562</td>\n",
       "      <td>-0.323302</td>\n",
       "      <td>1.303872</td>\n",
       "      <td>...</td>\n",
       "      <td>-0.158453</td>\n",
       "      <td>-0.514307</td>\n",
       "      <td>-0.155198</td>\n",
       "      <td>-0.122699</td>\n",
       "      <td>-0.308355</td>\n",
       "      <td>-0.103048</td>\n",
       "      <td>-0.098957</td>\n",
       "      <td>-0.159967</td>\n",
       "      <td>-0.402930</td>\n",
       "      <td>0.0</td>\n",
       "    </tr>\n",
       "    <tr>\n",
       "      <th>1</th>\n",
       "      <td>-0.342434</td>\n",
       "      <td>-0.165072</td>\n",
       "      <td>-0.556761</td>\n",
       "      <td>-0.0469</td>\n",
       "      <td>-0.464314</td>\n",
       "      <td>-0.350266</td>\n",
       "      <td>-0.291794</td>\n",
       "      <td>-0.262562</td>\n",
       "      <td>-0.323302</td>\n",
       "      <td>-0.371364</td>\n",
       "      <td>...</td>\n",
       "      <td>-0.158453</td>\n",
       "      <td>-0.096293</td>\n",
       "      <td>0.877876</td>\n",
       "      <td>-0.261250</td>\n",
       "      <td>-0.308355</td>\n",
       "      <td>-0.103048</td>\n",
       "      <td>-0.070053</td>\n",
       "      <td>-0.185625</td>\n",
       "      <td>-0.148923</td>\n",
       "      <td>0.0</td>\n",
       "    </tr>\n",
       "    <tr>\n",
       "      <th>2</th>\n",
       "      <td>0.541872</td>\n",
       "      <td>-0.165072</td>\n",
       "      <td>-0.239356</td>\n",
       "      <td>-0.0469</td>\n",
       "      <td>-0.062791</td>\n",
       "      <td>-0.350266</td>\n",
       "      <td>-0.291794</td>\n",
       "      <td>-0.137882</td>\n",
       "      <td>-0.323302</td>\n",
       "      <td>-0.045624</td>\n",
       "      <td>...</td>\n",
       "      <td>0.120871</td>\n",
       "      <td>-0.407029</td>\n",
       "      <td>-0.155198</td>\n",
       "      <td>-0.306616</td>\n",
       "      <td>-0.072444</td>\n",
       "      <td>-0.082084</td>\n",
       "      <td>-0.056815</td>\n",
       "      <td>0.019640</td>\n",
       "      <td>0.421769</td>\n",
       "      <td>1.0</td>\n",
       "    </tr>\n",
       "    <tr>\n",
       "      <th>3</th>\n",
       "      <td>-0.342434</td>\n",
       "      <td>-0.165072</td>\n",
       "      <td>-0.556761</td>\n",
       "      <td>-0.0469</td>\n",
       "      <td>-0.181761</td>\n",
       "      <td>-0.350266</td>\n",
       "      <td>-0.291794</td>\n",
       "      <td>-0.262562</td>\n",
       "      <td>-0.323302</td>\n",
       "      <td>-0.371364</td>\n",
       "      <td>...</td>\n",
       "      <td>0.112655</td>\n",
       "      <td>-0.103691</td>\n",
       "      <td>-0.155198</td>\n",
       "      <td>-0.302938</td>\n",
       "      <td>-0.129388</td>\n",
       "      <td>-0.103048</td>\n",
       "      <td>-0.108192</td>\n",
       "      <td>-0.159967</td>\n",
       "      <td>0.197451</td>\n",
       "      <td>0.0</td>\n",
       "    </tr>\n",
       "    <tr>\n",
       "      <th>4</th>\n",
       "      <td>6.207977</td>\n",
       "      <td>-0.165072</td>\n",
       "      <td>-0.556761</td>\n",
       "      <td>-0.0469</td>\n",
       "      <td>-0.464314</td>\n",
       "      <td>-0.350266</td>\n",
       "      <td>-0.291794</td>\n",
       "      <td>-0.262562</td>\n",
       "      <td>-0.323302</td>\n",
       "      <td>-0.371364</td>\n",
       "      <td>...</td>\n",
       "      <td>-0.158453</td>\n",
       "      <td>-0.514307</td>\n",
       "      <td>-0.155198</td>\n",
       "      <td>-0.329912</td>\n",
       "      <td>-0.308355</td>\n",
       "      <td>-0.103048</td>\n",
       "      <td>0.021953</td>\n",
       "      <td>-0.118914</td>\n",
       "      <td>-0.379839</td>\n",
       "      <td>0.0</td>\n",
       "    </tr>\n",
       "  </tbody>\n",
       "</table>\n",
       "<p>5 rows × 58 columns</p>\n",
       "</div>"
      ],
      "text/plain": [
       "         0         1         2       3         4         5         6   \\\n",
       "0 -0.342434  0.671855 -0.556761 -0.0469 -0.464314 -0.350266 -0.291794   \n",
       "1 -0.342434 -0.165072 -0.556761 -0.0469 -0.464314 -0.350266 -0.291794   \n",
       "2  0.541872 -0.165072 -0.239356 -0.0469 -0.062791 -0.350266 -0.291794   \n",
       "3 -0.342434 -0.165072 -0.556761 -0.0469 -0.181761 -0.350266 -0.291794   \n",
       "4  6.207977 -0.165072 -0.556761 -0.0469 -0.464314 -0.350266 -0.291794   \n",
       "\n",
       "         7         8         9  ...         48        49        50        51  \\\n",
       "0 -0.262562 -0.323302  1.303872 ...  -0.158453 -0.514307 -0.155198 -0.122699   \n",
       "1 -0.262562 -0.323302 -0.371364 ...  -0.158453 -0.096293  0.877876 -0.261250   \n",
       "2 -0.137882 -0.323302 -0.045624 ...   0.120871 -0.407029 -0.155198 -0.306616   \n",
       "3 -0.262562 -0.323302 -0.371364 ...   0.112655 -0.103691 -0.155198 -0.302938   \n",
       "4 -0.262562 -0.323302 -0.371364 ...  -0.158453 -0.514307 -0.155198 -0.329912   \n",
       "\n",
       "         52        53        54        55        56   57  \n",
       "0 -0.308355 -0.103048 -0.098957 -0.159967 -0.402930  0.0  \n",
       "1 -0.308355 -0.103048 -0.070053 -0.185625 -0.148923  0.0  \n",
       "2 -0.072444 -0.082084 -0.056815  0.019640  0.421769  1.0  \n",
       "3 -0.129388 -0.103048 -0.108192 -0.159967  0.197451  0.0  \n",
       "4 -0.308355 -0.103048  0.021953 -0.118914 -0.379839  0.0  \n",
       "\n",
       "[5 rows x 58 columns]"
      ]
     },
     "execution_count": 662,
     "metadata": {},
     "output_type": "execute_result"
    }
   ],
   "source": [
    "#rescaled features\n",
    "from sklearn import preprocessing\n",
    "from sklearn.preprocessing import scale\n",
    "\n",
    "X = data_shuf.drop('spam', 1)\n",
    "X1= data_shuf['spam']\n",
    "\n",
    "X_scaled = preprocessing.scale(X)\n",
    "\n",
    "X_scaled1=np.column_stack((X_scaled, X1))\n",
    "type(X_scaled1)\n",
    "df = pd.DataFrame(X_scaled1)\n",
    "\n",
    "df.head()"
   ]
  },
  {
   "cell_type": "code",
   "execution_count": 663,
   "metadata": {
    "collapsed": false
   },
   "outputs": [
    {
     "name": "stdout",
     "output_type": "stream",
     "text": [
      "KNN with rescaling\n",
      "accuracy= 0.898813241724\n",
      "classification_report:              precision    recall  f1-score   support\n",
      "\n",
      "    regular       0.89      0.95      0.92       978\n",
      "       spam       0.91      0.82      0.86       623\n",
      "\n",
      "avg / total       0.90      0.90      0.90      1601\n",
      "\n",
      "Confusion_matrix:decision tree:\n",
      "[[927  51]\n",
      " [111 512]]\n"
     ]
    }
   ],
   "source": [
    "# KNN with rescaling\n",
    "from sklearn.neighbors import KNeighborsClassifier\n",
    "from sklearn.metrics import confusion_matrix\n",
    "\n",
    "#creating data\n",
    "train= df[0:3000]\n",
    "test = df[3000:]\n",
    "# 57 is \"spam\"\n",
    "train , y_train = train.drop(57, 1), list(train[57])\n",
    "test, y_test = test.drop(57, 1), list(test[57])\n",
    "\n",
    "#settings\n",
    "neigh = KNeighborsClassifier(n_neighbors=10, metric='euclidean')\n",
    "neigh.fit(train, y_train) \n",
    "\n",
    "#prediction\n",
    "expected = y_test\n",
    "predicted5=neigh.predict(test)\n",
    "\n",
    "#quality\n",
    "A5 = accuracy_score(expected, predicted5)\n",
    "R5 = metrics.classification_report(expected, predicted5,target_names=target_names)\n",
    "M5 = metrics.confusion_matrix(expected, predicted5)\n",
    "\n",
    "print (\"KNN with rescaling\")\n",
    "\n",
    "print (\"accuracy=\",A5)\n",
    "print (\"classification_report:\" , R5)\n",
    "print( \"Confusion_matrix:decision tree:\")\n",
    "print (M5)"
   ]
  },
  {
   "cell_type": "markdown",
   "metadata": {},
   "source": [
    "Does rescaled feature increased metrics for KNN?\n",
    "\n",
    " -Yes, transformation makes results better"
   ]
  },
  {
   "cell_type": "markdown",
   "metadata": {},
   "source": [
    "##### Rescaling for Decision Tree"
   ]
  },
  {
   "cell_type": "code",
   "execution_count": 664,
   "metadata": {
    "collapsed": false
   },
   "outputs": [
    {
     "name": "stdout",
     "output_type": "stream",
     "text": [
      "Decision Tree with rescaling\n",
      "accuracy= 0.910680824485\n",
      "classification_report:              precision    recall  f1-score   support\n",
      "\n",
      "    regular       0.92      0.94      0.93       978\n",
      "       spam       0.90      0.87      0.88       623\n",
      "\n",
      "avg / total       0.91      0.91      0.91      1601\n",
      "\n",
      "Confusion_matrix:decision tree:\n",
      "[[918  60]\n",
      " [ 83 540]]\n"
     ]
    }
   ],
   "source": [
    "# Desicion Tree with rescaling\n",
    "\n",
    "#settings\n",
    "model = DecisionTreeClassifier(criterion='gini',max_depth=7)\n",
    "model.fit(train, y_train)\n",
    "\n",
    "#prediction\n",
    "expected = y_test\n",
    "predicted = model.predict(test)\n",
    "\n",
    "#quality\n",
    "A6 = accuracy_score(expected, predicted)\n",
    "R6 = metrics.classification_report(expected, predicted,target_names=target_names)\n",
    "M6 = metrics.confusion_matrix(expected, predicted)\n",
    "\n",
    "print (\"Decision Tree with rescaling\")\n",
    "\n",
    "print (\"accuracy=\",A6)\n",
    "print (\"classification_report:\" , R6)\n",
    "print( \"Confusion_matrix:decision tree:\")\n",
    "print (M6)"
   ]
  },
  {
   "cell_type": "markdown",
   "metadata": {},
   "source": [
    "The same results as without rescaling decision tree"
   ]
  },
  {
   "cell_type": "markdown",
   "metadata": {},
   "source": [
    "#### 9 Compare all models by all metrics"
   ]
  },
  {
   "cell_type": "code",
   "execution_count": 667,
   "metadata": {
    "collapsed": false
   },
   "outputs": [
    {
     "name": "stdout",
     "output_type": "stream",
     "text": [
      "Accuracy\n",
      "  constant model,c=1 0.38913179263\n",
      "  deciion tree 0.913179262961\n",
      "  KNN 0.785758900687\n",
      "  KNN with rescaling 0.898813241724\n"
     ]
    }
   ],
   "source": [
    "print('Accuracy')\n",
    "print ('  constant model,c=1', A3)\n",
    "print ('  deciion tree', A1)\n",
    "print ('  KNN', A4)\n",
    "print ('  KNN with rescaling', A5)"
   ]
  },
  {
   "cell_type": "code",
   "execution_count": 669,
   "metadata": {
    "collapsed": false
   },
   "outputs": [
    {
     "name": "stdout",
     "output_type": "stream",
     "text": [
      "Classification_report\n",
      "\n",
      "constant model,c=1\n",
      "             precision    recall  f1-score   support\n",
      "\n",
      "    regular       0.00      0.00      0.00       978\n",
      "       spam       0.39      1.00      0.56       623\n",
      "\n",
      "avg / total       0.15      0.39      0.22      1601\n",
      "\n",
      "----------------------------------------------------------\n",
      "decision tree\n",
      "             precision    recall  f1-score   support\n",
      "\n",
      "    regular       0.92      0.94      0.93       978\n",
      "       spam       0.90      0.87      0.89       623\n",
      "\n",
      "avg / total       0.91      0.91      0.91      1601\n",
      "\n",
      "----------------------------------------------------------\n",
      "KNN\n",
      "             precision    recall  f1-score   support\n",
      "\n",
      "    regular       0.80      0.87      0.83       978\n",
      "       spam       0.76      0.65      0.70       623\n",
      "\n",
      "avg / total       0.78      0.79      0.78      1601\n",
      "\n",
      "----------------------------------------------------------\n",
      "KNN with rescaling\n",
      "             precision    recall  f1-score   support\n",
      "\n",
      "    regular       0.89      0.95      0.92       978\n",
      "       spam       0.91      0.82      0.86       623\n",
      "\n",
      "avg / total       0.90      0.90      0.90      1601\n",
      "\n"
     ]
    }
   ],
   "source": [
    "print (\"Classification_report\")\n",
    "print(\"\")\n",
    "print ('constant model,c=1')\n",
    "print (R3)\n",
    "print(\"----------------------------------------------------------\")\n",
    "print ('decision tree')\n",
    "print (R1)\n",
    "print(\"----------------------------------------------------------\")\n",
    "print ('KNN')\n",
    "print(R4)\n",
    "print(\"----------------------------------------------------------\")\n",
    "print ('KNN with rescaling')\n",
    "print(R5)"
   ]
  },
  {
   "cell_type": "markdown",
   "metadata": {},
   "source": [
    "## 3. Classification threshold selection"
   ]
  },
  {
   "cell_type": "code",
   "execution_count": 465,
   "metadata": {
    "collapsed": false
   },
   "outputs": [
    {
     "name": "stdout",
     "output_type": "stream",
     "text": [
      "Populating the interactive namespace from numpy and matplotlib\n"
     ]
    }
   ],
   "source": [
    "%pylab inline"
   ]
  },
  {
   "cell_type": "markdown",
   "metadata": {},
   "source": [
    "#### 1 Which classifier has AUC-ROC near 0?"
   ]
  },
  {
   "cell_type": "markdown",
   "metadata": {
    "collapsed": true
   },
   "source": [
    "AUC-ROC - Area Under the Receiver Operating Characteristic curve. \n",
    "\n",
    "Interpritation of AUC-ROC:\n",
    "The expectation that a uniformly drawn random positive is ranked before a uniformly drawn random negative.\n",
    "\n",
    "A value of less than 0.5 says that the classifier operates exactly the opposite: if the positive are called negative and vice versa, the classifier will work better. \n",
    "so, it means that in 0 everising is inverse. replacing true anf false variables will give the value 1."
   ]
  },
  {
   "cell_type": "markdown",
   "metadata": {},
   "source": [
    "#### 2. Is it correct, that classifier from previous part #2 to identify class compare some estimation with threshold? What are those estimations? What thresholds were chosen?"
   ]
  },
  {
   "cell_type": "markdown",
   "metadata": {},
   "source": [
    "DecisionTree thresholds::"
   ]
  },
  {
   "cell_type": "code",
   "execution_count": 678,
   "metadata": {
    "collapsed": false
   },
   "outputs": [
    {
     "name": "stdout",
     "output_type": "stream",
     "text": [
      "[-0.12735415 -0.12572286  0.14888632 -0.25293398 -0.16780557  0.03295304\n",
      "  0.59154236 -2.         -2.          0.49261808 -2.         -2.\n",
      " -0.08149515  0.19914638 -2.         -2.          1.7958672  -2.         -2.\n",
      " -0.12270236 -0.16926403 -0.30149221 -2.         -2.         -0.17909992\n",
      " -2.         -2.          0.77615613 -0.01451083 -2.         -2.\n",
      " -0.01701996 -2.         -2.         -0.37571508  0.72199404  1.16532743\n",
      " -0.08214131 -2.         -2.         -2.          0.22306639 -2.         -2.\n",
      " -0.04371359 -0.04869814 -0.09588398 -2.         -2.         -2.         -2.\n",
      " -0.18631385 -0.07115535  1.31867361 -0.23950714  0.10628091 -2.         -2.\n",
      " -2.         -2.          0.19759032 -2.         -2.         -2.\n",
      " -0.09843683  0.0056816  -0.21898066 -0.22792041  0.10404642  1.80134213\n",
      " -2.         -2.          0.44564554 -2.         -2.         -2.\n",
      " -0.16849345 -0.11882792  1.72602248 -2.         -2.          0.0710496  -2.\n",
      " -2.         -0.18438499 -2.         -2.          0.33744353 -2.         -2.\n",
      " -0.10017347  0.76783442 -2.         -2.         -2.        ]\n"
     ]
    }
   ],
   "source": [
    "model = DecisionTreeClassifier(criterion='gini',max_depth=7)\n",
    "model.fit(train, y_train)\n",
    "print (model.tree_.threshold)"
   ]
  },
  {
   "cell_type": "markdown",
   "metadata": {},
   "source": [
    "In decision tree there was used criterion='gini'. Criterion is the function to measure the quality of a split. Supported criteria are “gini” for the Gini impurity."
   ]
  },
  {
   "cell_type": "markdown",
   "metadata": {},
   "source": [
    "#### 3.1 Draw ROC and Precision/Recall curves on the same coordinate plane with different colors. Add legend."
   ]
  },
  {
   "cell_type": "markdown",
   "metadata": {},
   "source": [
    "#### ROC "
   ]
  },
  {
   "cell_type": "code",
   "execution_count": 707,
   "metadata": {
    "collapsed": false
   },
   "outputs": [
    {
     "data": {
      "image/png": "[encoded data removed]",
      "text/plain": [
       "<matplotlib.figure.Figure at 0x1996379b6d8>"
      ]
     },
     "metadata": {},
     "output_type": "display_data"
    }
   ],
   "source": [
    "import matplotlib.pyplot as plt\n",
    "%matplotlib inline\n",
    "from sklearn.metrics import roc_curve, auc\n",
    "from sklearn.metrics import roc_auc_score\n",
    "\n",
    "# Desicion Tree with rescaling\n",
    "model = DecisionTreeClassifier(criterion='gini',max_depth=7)\n",
    "model.fit(train, y_train)\n",
    "exp1 = y_test\n",
    "pred1 = model.predict(test)\n",
    "fpr1, tpr1, thresholds1 = metrics.roc_curve(exp1, pred1)\n",
    "roc_auc = metrics.auc(fpr1, tpr1)\n",
    "\n",
    "#KNN\n",
    "neigh = KNeighborsClassifier(n_neighbors=10, metric='euclidean')\n",
    "neigh.fit(train, y_train) \n",
    "exp2 = y_test\n",
    "pred2=neigh.predict(test)\n",
    "fpr2, tpr2, thresholds2 = metrics.roc_curve(exp2, pred2)\n",
    "\n",
    "#constant=1 model\n",
    "model = DummyClassifier(strategy='constant', random_state=random_state, constant=1)\n",
    "model.fit(train, y_train)\n",
    "exp3 = y_test\n",
    "c1 = model.predict(test)\n",
    "fpr3, tpr3, thresholds3 = metrics.roc_curve(exp3, c1)\n",
    "\n",
    "plt.figure()\n",
    "\n",
    "plt.title('AUC-ROC')\n",
    "\n",
    "plt.plot(fpr1, tpr1, label = 'DecTree = %.2f' % roc_auc_score(np.array(y_test), np.array(pred1)))\n",
    "plt.plot(fpr2, tpr2, label = 'KNN = %.2f' % roc_auc_score(np.array(y_test), np.array(pred2)))\n",
    "plt.plot(fpr3, tpr3, label = 'constant_1 = %.2f' % roc_auc_score(np.array(y_test), np.array(c1)))\n",
    "\n",
    "plt.legend(loc = 'lower right')\n",
    "plt.plot([0, 1], [0, 1],'r--')\n",
    "plt.xlim([0, 1])\n",
    "plt.ylim([0, 1])\n",
    "plt.ylabel('True Positive Rate')\n",
    "plt.xlabel('False Positive Rate')\n",
    "plt.show()\n"
   ]
  },
  {
   "cell_type": "markdown",
   "metadata": {},
   "source": [
    "#### Precision/Recall plot"
   ]
  },
  {
   "cell_type": "code",
   "execution_count": 708,
   "metadata": {
    "collapsed": false
   },
   "outputs": [
    {
     "data": {
      "image/png": "[encoded data removed]",
      "text/plain": [
       "<matplotlib.figure.Figure at 0x199651b54a8>"
      ]
     },
     "metadata": {},
     "output_type": "display_data"
    }
   ],
   "source": [
    "#Precision/Recall plot\n",
    "plt.figure()\n",
    " \n",
    "precr1, recr1,thresholds1 = metrics.precision_recall_curve(exp1, pred1)\n",
    "precr2, recr2,thresholds2 = metrics.precision_recall_curve(exp2, pred2)\n",
    "precr3, recr3,thresholds3 = metrics.precision_recall_curve(exp3, c1)\n",
    "\n",
    "\n",
    "plt.plot(precr1, recr1, label = 'DecTree')\n",
    "plt.plot(precr2, recr2, label = 'KNN')\n",
    "plt.plot(precr3, recr3, label = 'constant model class 1')\n",
    "\n",
    "plt.xlim([0, 1])\n",
    "plt.ylim([0, 1])\n",
    "plt.xlabel('Recall Rate')\n",
    "plt.ylabel('Precision Rate')\n",
    "plt.title('Precision/Recall plot')\n",
    "plt.legend(loc=\"lower left\")\n",
    "plt.show()"
   ]
  },
  {
   "cell_type": "markdown",
   "metadata": {},
   "source": [
    "#### 3.2 Compare AUC-ROC."
   ]
  },
  {
   "cell_type": "code",
   "execution_count": 696,
   "metadata": {
    "collapsed": false
   },
   "outputs": [
    {
     "data": {
      "image/png": "[encoded data removed]",
      "text/plain": [
       "<matplotlib.figure.Figure at 0x1996a1de668>"
      ]
     },
     "metadata": {},
     "output_type": "display_data"
    }
   ],
   "source": [
    "#bar chart\n",
    "auc1 = roc_auc_score(np.array(y_test), np.array(pred1))\n",
    "auc2 = roc_auc_score(np.array(y_test), np.array(pred2))\n",
    "auc3 = roc_auc_score(np.array(y_test), np.array(c1))\n",
    "\n",
    "objects = ('Decision tree', 'KNN', 'Constant')\n",
    "y_pos = np.arange(len(objects))\n",
    "performance = [auc1,auc2,auc3]\n",
    " \n",
    "plt.bar(y_pos, performance, align='center', alpha=0.5)\n",
    "plt.xticks(y_pos, objects)\n",
    "plt.ylabel('mean(AUC-ROC)')\n",
    "plt.title('model')\n",
    " \n",
    "plt.show()"
   ]
  },
  {
   "cell_type": "markdown",
   "metadata": {},
   "source": [
    "## 4. Cross-validation and parameter selection"
   ]
  },
  {
   "cell_type": "markdown",
   "metadata": {},
   "source": [
    "grid search : pick several values for every parameter, then evaluate every combination of parameters, and choose the best set from the point of optimized metric.grid search : pick several values for every parameter, then evaluate every combination of parameters, and choose the best set from the point of optimized metric."
   ]
  },
  {
   "cell_type": "markdown",
   "metadata": {},
   "source": [
    "#### 4.1 Choose cross-validation method. Fixate cross-validation split of train set. You should cross-validate on train samples from previous tasks, test should stay independent. Pay attention: when comparing models, cross-validation split must not change. #### 4.3 Find optimal set of parameters for tree with grid search. Parameters for grid: split criterion, max depth, number of features for node, min number of objects in the leaf (of only some of offered parameters)"
   ]
  },
  {
   "cell_type": "code",
   "execution_count": 737,
   "metadata": {
    "collapsed": false
   },
   "outputs": [
    {
     "name": "stdout",
     "output_type": "stream",
     "text": [
      "['mean_fit_time', 'mean_score_time', 'mean_test_score', 'mean_train_score', 'param_criterion', 'param_max_depth', 'param_max_features', 'param_min_samples_leaf', 'params', 'rank_test_score', 'split0_test_score', 'split0_train_score', 'split1_test_score', 'split1_train_score', 'split2_test_score', 'split2_train_score', 'std_fit_time', 'std_score_time', 'std_test_score', 'std_train_score']\n",
      "\n",
      "best_estimator: DecisionTreeClassifier(class_weight=None, criterion='gini', max_depth=4,\n",
      "            max_features='auto', max_leaf_nodes=None,\n",
      "            min_impurity_split=1e-07, min_samples_leaf=3,\n",
      "            min_samples_split=2, min_weight_fraction_leaf=0.0,\n",
      "            presort=False, random_state=None, splitter='best')\n",
      "best_parameters: {'criterion': 'gini', 'max_depth': 4, 'max_features': 'auto', 'min_samples_leaf': 3}\n",
      "best_score: 0.86\n",
      "scorer= <function _passthrough_scorer at 0x00000199646180D0>\n",
      "Wall time: 2.08 s\n"
     ]
    }
   ],
   "source": [
    "%%time\n",
    "#for decision tree classifier\n",
    "\n",
    "from sklearn.model_selection import GridSearchCV\n",
    "#Parameters for grid: split criterion, max depth, number of features for node, min number of objects in the leaf (of only some of offered parameters)\n",
    "parameters = {'criterion':('gini', 'entropy'),'max_depth':[1, 2, 3, 4], 'max_features': (\"auto\", \"sqrt\", ),'min_samples_leaf': [1, 2, 3, 4]}\n",
    "\n",
    "model = GridSearchCV(DecisionTreeClassifier(), parameters) \n",
    "model.fit(train, y_train)\n",
    "print (sorted(model.cv_results_.keys()))\n",
    "print('')\n",
    "print (\"best_estimator:\", model.best_estimator_)\n",
    "print (\"best_parameters:\", model.best_params_)\n",
    "print (\"best_score:\", model.best_score_)\n",
    "print(\"scorer=\",model.scorer_)\n"
   ]
  },
  {
   "cell_type": "markdown",
   "metadata": {
    "collapsed": true
   },
   "source": [
    "#### 4.2 Choose one metric for optimization by grid search. Example: AUC-ROC."
   ]
  },
  {
   "cell_type": "code",
   "execution_count": 738,
   "metadata": {
    "collapsed": false
   },
   "outputs": [
    {
     "name": "stdout",
     "output_type": "stream",
     "text": [
      "------------ AUC-ROC -------------------------\n",
      "['mean_fit_time', 'mean_score_time', 'mean_test_score', 'mean_train_score', 'param_criterion', 'param_max_depth', 'param_max_features', 'param_min_samples_leaf', 'params', 'rank_test_score', 'split0_test_score', 'split0_train_score', 'split1_test_score', 'split1_train_score', 'split2_test_score', 'split2_train_score', 'std_fit_time', 'std_score_time', 'std_test_score', 'std_train_score']\n",
      "\n",
      "AUC-ROC.best_estimator: DecisionTreeClassifier(class_weight=None, criterion='gini', max_depth=4,\n",
      "            max_features='auto', max_leaf_nodes=None,\n",
      "            min_impurity_split=1e-07, min_samples_leaf=4,\n",
      "            min_samples_split=2, min_weight_fraction_leaf=0.0,\n",
      "            presort=False, random_state=None, splitter='best')\n",
      "AUC-ROC.best_parameters: {'criterion': 'gini', 'max_depth': 4, 'max_features': 'auto', 'min_samples_leaf': 4}\n",
      "AUC-ROC.best_score: 0.901903333255\n",
      "AUC-ROC.scorer= make_scorer(roc_auc_score, needs_threshold=True)\n",
      "Wall time: 7.71 s\n"
     ]
    }
   ],
   "source": [
    "%%time\n",
    "print('------------ AUC-ROC -------------------------')\n",
    "\n",
    "model1 = GridSearchCV(DecisionTreeClassifier(), parameters, scoring='roc_auc', n_jobs=4, cv=None)\n",
    "model1.fit(train, y_train)\n",
    "print (sorted(model1.cv_results_.keys()))\n",
    "print('')\n",
    "print (\"AUC-ROC.best_estimator:\", model1.best_estimator_)\n",
    "print (\"AUC-ROC.best_parameters:\", model1.best_params_)\n",
    "print (\"AUC-ROC.best_score:\", model1.best_score_)\n",
    "print(\"AUC-ROC.scorer=\",model1.scorer_)"
   ]
  },
  {
   "cell_type": "markdown",
   "metadata": {},
   "source": [
    "##### test - OK"
   ]
  },
  {
   "cell_type": "markdown",
   "metadata": {},
   "source": [
    "#### 4.4 Find optimal set of parameters for KNN using grid search. Parameters for grid: K, metric, weight scheme."
   ]
  },
  {
   "cell_type": "code",
   "execution_count": 745,
   "metadata": {
    "collapsed": false
   },
   "outputs": [
    {
     "name": "stdout",
     "output_type": "stream",
     "text": [
      "for knn\n",
      "optimal set of parameters: {'metric': 'euclidean', 'n_neighbors': 7, 'weights': 'distance'}\n",
      "Wall time: 54.3 s\n"
     ]
    }
   ],
   "source": [
    "%%time\n",
    "print ('for knn')\n",
    "parameters = {'n_neighbors':[7, 5, 2,3],'metric': ('euclidean','chebyshev','minkowski'),'weights':('uniform','distance')}\n",
    "\n",
    "model = GridSearchCV(KNeighborsClassifier(), parameters, scoring='roc_auc', n_jobs=6, cv=5)\n",
    "model.fit(train, y_train)\n",
    "\n",
    "#print (sorted(model.cv_results_.keys()))\n",
    "#print (\"best_estimator:\", model.best_estimator_)\n",
    "#print(\"scorer=\",model.scorer_)\n",
    "#print (\"best_score:\", model.best_score_)\n",
    "print (\"optimal set of parameters:\", model.best_params_)"
   ]
  },
  {
   "cell_type": "markdown",
   "metadata": {
    "collapsed": true
   },
   "source": [
    "## ---------------------------------------------------------------------------------------------------------"
   ]
  }
 ],
 "metadata": {
  "kernelspec": {
   "display_name": "Python 3",
   "language": "python",
   "name": "python3"
  },
  "language_info": {
   "codemirror_mode": {
    "name": "ipython",
    "version": 3
   },
   "file_extension": ".py",
   "mimetype": "text/x-python",
   "name": "python",
   "nbconvert_exporter": "python",
   "pygments_lexer": "ipython3",
   "version": "3.6.0"
  }
 },
 "nbformat": 4,
 "nbformat_minor": 2
}
